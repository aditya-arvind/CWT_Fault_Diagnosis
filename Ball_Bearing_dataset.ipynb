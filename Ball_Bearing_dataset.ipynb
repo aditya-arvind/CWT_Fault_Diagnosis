{
 "cells": [
  {
   "cell_type": "code",
   "execution_count": 1,
   "metadata": {},
   "outputs": [],
   "source": [
    "import numpy as np\n",
    "import pandas as pd\n",
    "import os\n",
    "import cv2\n",
    "import matplotlib.pyplot as plt\n"
   ]
  },
  {
   "cell_type": "code",
   "execution_count": 2,
   "metadata": {},
   "outputs": [],
   "source": [
    "datadir_normal=\"C:\\\\Users\\\\user\\\\Desktop\\\\project_ball_bearing\\\\Dataset\\\\Normal\"\n",
    "datadir_faulty = \"C:\\\\Users\\\\user\\\\Desktop\\\\project_ball_bearing\\\\Dataset\""
   ]
  },
  {
   "cell_type": "code",
   "execution_count": 3,
   "metadata": {},
   "outputs": [],
   "source": [
    "# categories_normal=[\"normal_0\",\"normal_1\",\"normal_2\",\"normal_3\"]\n",
    "# categories_faulty=[\"B0007_0\",\"B0007_1\",\"B0007_2\",\"B0007_3\",\"OR007@3_0\",\"OR007@3_1\",\"OR007@3_2\",\"OR007@3_3\",\"OR007@6_0\",\"OR007@6_1\",\"OR007@6_2\",\"OR007@6_3\",\"OR007@12_0\",\"OR007@12_1\",\"OR007@12_2\",\"OR007@12_3\",\"inner_race_0\",\"inner_race_1\",\"inner_race_2\",\"inner_race_3\"]"
   ]
  },
  {
   "cell_type": "code",
   "execution_count": 4,
   "metadata": {},
   "outputs": [
    {
     "data": {
      "text/plain": [
       "1904"
      ]
     },
     "execution_count": 4,
     "metadata": {},
     "output_type": "execute_result"
    }
   ],
   "source": [
    "# Creating Training data for normal_0\n",
    "training_data=[]\n",
    "path=os.path.join(datadir_normal,\"normal_0\")\n",
    "for img in os.listdir(path):\n",
    "    img_array=cv2.imread(os.path.join(path,img))\n",
    "    img_array_new=cv2.resize(img_array,(256,256))\n",
    "    training_data.append([img_array_new,\"normal_0\"])\n",
    "len(training_data)"
   ]
  },
  {
   "cell_type": "code",
   "execution_count": 5,
   "metadata": {},
   "outputs": [],
   "source": [
    "import random"
   ]
  },
  {
   "cell_type": "code",
   "execution_count": 6,
   "metadata": {},
   "outputs": [],
   "source": [
    "training_data_new=[]\n",
    "for i in range(350):\n",
    "    a=random.randint(0,1903)\n",
    "    training_data_new.append(training_data[a])"
   ]
  },
  {
   "cell_type": "code",
   "execution_count": 7,
   "metadata": {},
   "outputs": [
    {
     "data": {
      "text/plain": [
       "350"
      ]
     },
     "execution_count": 7,
     "metadata": {},
     "output_type": "execute_result"
    }
   ],
   "source": [
    "len(training_data_new)"
   ]
  },
  {
   "cell_type": "code",
   "execution_count": 8,
   "metadata": {},
   "outputs": [
    {
     "data": {
      "text/plain": [
       "3780"
      ]
     },
     "execution_count": 8,
     "metadata": {},
     "output_type": "execute_result"
    }
   ],
   "source": [
    "# Creating Training data for normal_1\n",
    "training_data=[]\n",
    "path=os.path.join(datadir_normal,\"normal_1\")\n",
    "for img in os.listdir(path):\n",
    "    img_array=cv2.imread(os.path.join(path,img))\n",
    "    img_array_new=cv2.resize(img_array,(256,256))\n",
    "    training_data.append([img_array_new,\"normal_1\"])\n",
    "len(training_data)"
   ]
  },
  {
   "cell_type": "code",
   "execution_count": 9,
   "metadata": {},
   "outputs": [],
   "source": [
    "for i in range(350):\n",
    "    a=random.randint(0,3779)\n",
    "    training_data_new.append(training_data[a])"
   ]
  },
  {
   "cell_type": "code",
   "execution_count": 10,
   "metadata": {},
   "outputs": [
    {
     "data": {
      "text/plain": [
       "3788"
      ]
     },
     "execution_count": 10,
     "metadata": {},
     "output_type": "execute_result"
    }
   ],
   "source": [
    "training_data=[]\n",
    "path=os.path.join(datadir_normal,\"normal_2\")\n",
    "for img in os.listdir(path):\n",
    "    img_array=cv2.imread(os.path.join(path,img))\n",
    "    img_array_new=cv2.resize(img_array,(256,256))\n",
    "    training_data.append([img_array_new,\"normal_2\"])\n",
    "len(training_data)"
   ]
  },
  {
   "cell_type": "code",
   "execution_count": 11,
   "metadata": {},
   "outputs": [],
   "source": [
    "for i in range(350):\n",
    "    a=random.randint(0,3787)\n",
    "    training_data_new.append(training_data[a])"
   ]
  },
  {
   "cell_type": "code",
   "execution_count": 12,
   "metadata": {},
   "outputs": [
    {
     "data": {
      "text/plain": [
       "3794"
      ]
     },
     "execution_count": 12,
     "metadata": {},
     "output_type": "execute_result"
    }
   ],
   "source": [
    "training_data=[]\n",
    "path=os.path.join(datadir_normal,\"normal_3\")\n",
    "for img in os.listdir(path):\n",
    "    img_array=cv2.imread(os.path.join(path,img))\n",
    "    img_array_new=cv2.resize(img_array,(256,256))\n",
    "    training_data.append([img_array_new,\"normal_3\"])\n",
    "len(training_data)"
   ]
  },
  {
   "cell_type": "code",
   "execution_count": 13,
   "metadata": {},
   "outputs": [],
   "source": [
    "for i in range(350):\n",
    "    a=random.randint(0,3793)\n",
    "    training_data_new.append(training_data[a])"
   ]
  },
  {
   "cell_type": "code",
   "execution_count": 14,
   "metadata": {},
   "outputs": [
    {
     "data": {
      "text/plain": [
       "1434"
      ]
     },
     "execution_count": 14,
     "metadata": {},
     "output_type": "execute_result"
    }
   ],
   "source": [
    "training_data=[]\n",
    "path=os.path.join(datadir_faulty,\"B0007_0\")\n",
    "for img in os.listdir(path):\n",
    "    img_array=cv2.imread(os.path.join(path,img))\n",
    "    img_array_new=cv2.resize(img_array,(256,256))\n",
    "    training_data.append([img_array_new,\"B0007_0\"])\n",
    "len(training_data)"
   ]
  },
  {
   "cell_type": "code",
   "execution_count": 15,
   "metadata": {},
   "outputs": [],
   "source": [
    "for i in range(350):\n",
    "    a=random.randint(0,1433)\n",
    "    training_data_new.append(training_data[a])"
   ]
  },
  {
   "cell_type": "code",
   "execution_count": 16,
   "metadata": {},
   "outputs": [
    {
     "data": {
      "text/plain": [
       "1422"
      ]
     },
     "execution_count": 16,
     "metadata": {},
     "output_type": "execute_result"
    }
   ],
   "source": [
    "training_data=[]\n",
    "path=os.path.join(datadir_faulty,\"B0007_1\")\n",
    "for img in os.listdir(path):\n",
    "    img_array=cv2.imread(os.path.join(path,img))\n",
    "    img_array_new=cv2.resize(img_array,(256,256))\n",
    "    training_data.append([img_array_new,\"B0007_1\"])\n",
    "len(training_data)"
   ]
  },
  {
   "cell_type": "code",
   "execution_count": 17,
   "metadata": {},
   "outputs": [],
   "source": [
    "for i in range(350):\n",
    "    a=random.randint(0,1421)\n",
    "    training_data_new.append(training_data[a])"
   ]
  },
  {
   "cell_type": "code",
   "execution_count": 18,
   "metadata": {},
   "outputs": [
    {
     "data": {
      "text/plain": [
       "1422"
      ]
     },
     "execution_count": 18,
     "metadata": {},
     "output_type": "execute_result"
    }
   ],
   "source": [
    "training_data=[]\n",
    "path=os.path.join(datadir_faulty,\"B0007_2\")\n",
    "for img in os.listdir(path):\n",
    "    img_array=cv2.imread(os.path.join(path,img))\n",
    "    img_array_new=cv2.resize(img_array,(256,256))\n",
    "    training_data.append([img_array_new,\"B0007_2\"])\n",
    "len(training_data)"
   ]
  },
  {
   "cell_type": "code",
   "execution_count": 19,
   "metadata": {},
   "outputs": [],
   "source": [
    "for i in range(350):\n",
    "    a=random.randint(0,1421)\n",
    "    training_data_new.append(training_data[a])"
   ]
  },
  {
   "cell_type": "code",
   "execution_count": 20,
   "metadata": {},
   "outputs": [
    {
     "data": {
      "text/plain": [
       "1422"
      ]
     },
     "execution_count": 20,
     "metadata": {},
     "output_type": "execute_result"
    }
   ],
   "source": [
    "training_data=[]\n",
    "path=os.path.join(datadir_faulty,\"B0007_3\")\n",
    "for img in os.listdir(path):\n",
    "    img_array=cv2.imread(os.path.join(path,img))\n",
    "    img_array_new=cv2.resize(img_array,(256,256))\n",
    "    training_data.append([img_array_new,\"B0007_3\"])\n",
    "len(training_data)"
   ]
  },
  {
   "cell_type": "code",
   "execution_count": 21,
   "metadata": {},
   "outputs": [],
   "source": [
    "for i in range(350):\n",
    "    a=random.randint(0,1421)\n",
    "    training_data_new.append(training_data[a])"
   ]
  },
  {
   "cell_type": "code",
   "execution_count": 22,
   "metadata": {},
   "outputs": [
    {
     "data": {
      "text/plain": [
       "1431"
      ]
     },
     "execution_count": 22,
     "metadata": {},
     "output_type": "execute_result"
    }
   ],
   "source": [
    "training_data=[]\n",
    "path=os.path.join(datadir_faulty,\"OR007@3_0\")\n",
    "for img in os.listdir(path):\n",
    "    img_array=cv2.imread(os.path.join(path,img))\n",
    "    img_array_new=cv2.resize(img_array,(256,256))\n",
    "    training_data.append([img_array_new,\"OR007@_3\"])\n",
    "len(training_data)"
   ]
  },
  {
   "cell_type": "code",
   "execution_count": 23,
   "metadata": {},
   "outputs": [],
   "source": [
    "for i in range(350):\n",
    "    a=random.randint(0,1430)\n",
    "    training_data_new.append(training_data[a])"
   ]
  },
  {
   "cell_type": "code",
   "execution_count": 24,
   "metadata": {},
   "outputs": [
    {
     "data": {
      "text/plain": [
       "1425"
      ]
     },
     "execution_count": 24,
     "metadata": {},
     "output_type": "execute_result"
    }
   ],
   "source": [
    "training_data=[]\n",
    "path=os.path.join(datadir_faulty,\"OR007@3_1\")\n",
    "for img in os.listdir(path):\n",
    "    img_array=cv2.imread(os.path.join(path,img))\n",
    "    img_array_new=cv2.resize(img_array,(256,256))\n",
    "    training_data.append([img_array_new,\"OR007@3_1\"])\n",
    "len(training_data)"
   ]
  },
  {
   "cell_type": "code",
   "execution_count": 25,
   "metadata": {},
   "outputs": [],
   "source": [
    "for i in range(350):\n",
    "    a=random.randint(0,1424)\n",
    "    training_data_new.append(training_data[a])"
   ]
  },
  {
   "cell_type": "code",
   "execution_count": 26,
   "metadata": {},
   "outputs": [
    {
     "data": {
      "text/plain": [
       "1422"
      ]
     },
     "execution_count": 26,
     "metadata": {},
     "output_type": "execute_result"
    }
   ],
   "source": [
    "training_data=[]\n",
    "path=os.path.join(datadir_faulty,\"OR007@3_2\")\n",
    "for img in os.listdir(path):\n",
    "    img_array=cv2.imread(os.path.join(path,img))\n",
    "    img_array_new=cv2.resize(img_array,(256,256))\n",
    "    training_data.append([img_array_new,\"OR007@3_2\"])\n",
    "len(training_data)"
   ]
  },
  {
   "cell_type": "code",
   "execution_count": 27,
   "metadata": {},
   "outputs": [],
   "source": [
    "for i in range(350):\n",
    "    a=random.randint(0,1421)\n",
    "    training_data_new.append(training_data[a])"
   ]
  },
  {
   "cell_type": "code",
   "execution_count": 28,
   "metadata": {},
   "outputs": [
    {
     "data": {
      "text/plain": [
       "1431"
      ]
     },
     "execution_count": 28,
     "metadata": {},
     "output_type": "execute_result"
    }
   ],
   "source": [
    "training_data=[]\n",
    "path=os.path.join(datadir_faulty,\"OR007@3_3\")\n",
    "for img in os.listdir(path):\n",
    "    img_array=cv2.imread(os.path.join(path,img))\n",
    "    img_array_new=cv2.resize(img_array,(256,256))\n",
    "    training_data.append([img_array_new,\"OR007@3_3\"])\n",
    "len(training_data)"
   ]
  },
  {
   "cell_type": "code",
   "execution_count": 29,
   "metadata": {},
   "outputs": [],
   "source": [
    "for i in range(350):\n",
    "    a=random.randint(0,1430)\n",
    "    training_data_new.append(training_data[a])"
   ]
  },
  {
   "cell_type": "code",
   "execution_count": 30,
   "metadata": {},
   "outputs": [
    {
     "data": {
      "text/plain": [
       "1430"
      ]
     },
     "execution_count": 30,
     "metadata": {},
     "output_type": "execute_result"
    }
   ],
   "source": [
    "training_data=[]\n",
    "path=os.path.join(datadir_faulty,\"OR007@6_0\")\n",
    "for img in os.listdir(path):\n",
    "    img_array=cv2.imread(os.path.join(path,img))\n",
    "    img_array_new=cv2.resize(img_array,(256,256))\n",
    "    training_data.append([img_array_new,\"OR007@6_0\"])\n",
    "len(training_data)"
   ]
  },
  {
   "cell_type": "code",
   "execution_count": 31,
   "metadata": {},
   "outputs": [],
   "source": [
    "for i in range(350):\n",
    "    a=random.randint(0,1429)\n",
    "    training_data_new.append(training_data[a])"
   ]
  },
  {
   "cell_type": "code",
   "execution_count": 32,
   "metadata": {},
   "outputs": [
    {
     "data": {
      "text/plain": [
       "1434"
      ]
     },
     "execution_count": 32,
     "metadata": {},
     "output_type": "execute_result"
    }
   ],
   "source": [
    "training_data=[]\n",
    "path=os.path.join(datadir_faulty,\"OR007@6_1\")\n",
    "for img in os.listdir(path):\n",
    "    img_array=cv2.imread(os.path.join(path,img))\n",
    "    img_array_new=cv2.resize(img_array,(256,256))\n",
    "    training_data.append([img_array_new,\"OR007@6_1\"])\n",
    "len(training_data)"
   ]
  },
  {
   "cell_type": "code",
   "execution_count": 33,
   "metadata": {},
   "outputs": [],
   "source": [
    "for i in range(350):\n",
    "    a=random.randint(0,1433)\n",
    "    training_data_new.append(training_data[a])"
   ]
  },
  {
   "cell_type": "code",
   "execution_count": 34,
   "metadata": {},
   "outputs": [
    {
     "data": {
      "text/plain": [
       "1422"
      ]
     },
     "execution_count": 34,
     "metadata": {},
     "output_type": "execute_result"
    }
   ],
   "source": [
    "training_data=[]\n",
    "path=os.path.join(datadir_faulty,\"OR007@6_2\")\n",
    "for img in os.listdir(path):\n",
    "    img_array=cv2.imread(os.path.join(path,img))\n",
    "    img_array_new=cv2.resize(img_array,(256,256))\n",
    "    training_data.append([img_array_new,\"OR007@6_2\"])\n",
    "len(training_data)"
   ]
  },
  {
   "cell_type": "code",
   "execution_count": 35,
   "metadata": {},
   "outputs": [],
   "source": [
    "for i in range(350):\n",
    "    a=random.randint(0,1421)\n",
    "    training_data_new.append(training_data[a])"
   ]
  },
  {
   "cell_type": "code",
   "execution_count": 36,
   "metadata": {},
   "outputs": [
    {
     "data": {
      "text/plain": [
       "1434"
      ]
     },
     "execution_count": 36,
     "metadata": {},
     "output_type": "execute_result"
    }
   ],
   "source": [
    "training_data=[]\n",
    "path=os.path.join(datadir_faulty,\"OR007@6_3\")\n",
    "for img in os.listdir(path):\n",
    "    img_array=cv2.imread(os.path.join(path,img))\n",
    "    img_array_new=cv2.resize(img_array,(256,256))\n",
    "    training_data.append([img_array_new,\"OR007@6_3\"])\n",
    "len(training_data)"
   ]
  },
  {
   "cell_type": "code",
   "execution_count": 37,
   "metadata": {},
   "outputs": [],
   "source": [
    "for i in range(350):\n",
    "    a=random.randint(0,1433)\n",
    "    training_data_new.append(training_data[a])"
   ]
  },
  {
   "cell_type": "code",
   "execution_count": 38,
   "metadata": {},
   "outputs": [
    {
     "data": {
      "text/plain": [
       "1431"
      ]
     },
     "execution_count": 38,
     "metadata": {},
     "output_type": "execute_result"
    }
   ],
   "source": [
    "training_data=[]\n",
    "path=os.path.join(datadir_faulty,\"OR007@12_0\")\n",
    "for img in os.listdir(path):\n",
    "    img_array=cv2.imread(os.path.join(path,img))\n",
    "    img_array_new=cv2.resize(img_array,(256,256))\n",
    "    training_data.append([img_array_new,\"OR007@12_0\"])\n",
    "len(training_data)"
   ]
  },
  {
   "cell_type": "code",
   "execution_count": 39,
   "metadata": {},
   "outputs": [],
   "source": [
    "for i in range(350):\n",
    "    a=random.randint(0,1430)\n",
    "    training_data_new.append(training_data[a])"
   ]
  },
  {
   "cell_type": "code",
   "execution_count": 40,
   "metadata": {},
   "outputs": [
    {
     "data": {
      "text/plain": [
       "1428"
      ]
     },
     "execution_count": 40,
     "metadata": {},
     "output_type": "execute_result"
    }
   ],
   "source": [
    "training_data=[]\n",
    "path=os.path.join(datadir_faulty,\"OR007@12_1\")\n",
    "for img in os.listdir(path):\n",
    "    img_array=cv2.imread(os.path.join(path,img))\n",
    "    img_array_new=cv2.resize(img_array,(256,256))\n",
    "    training_data.append([img_array_new,\"OR007@12_1\"])\n",
    "len(training_data)"
   ]
  },
  {
   "cell_type": "code",
   "execution_count": 41,
   "metadata": {},
   "outputs": [],
   "source": [
    "for i in range(350):\n",
    "    a=random.randint(0,1427)\n",
    "    training_data_new.append(training_data[a])"
   ]
  },
  {
   "cell_type": "code",
   "execution_count": 42,
   "metadata": {},
   "outputs": [
    {
     "data": {
      "text/plain": [
       "1431"
      ]
     },
     "execution_count": 42,
     "metadata": {},
     "output_type": "execute_result"
    }
   ],
   "source": [
    "training_data=[]\n",
    "path=os.path.join(datadir_faulty,\"OR007@12_2\")\n",
    "for img in os.listdir(path):\n",
    "    img_array=cv2.imread(os.path.join(path,img))\n",
    "    img_array_new=cv2.resize(img_array,(256,256))\n",
    "    training_data.append([img_array_new,\"OR007@12_2\"])\n",
    "len(training_data)"
   ]
  },
  {
   "cell_type": "code",
   "execution_count": 43,
   "metadata": {},
   "outputs": [],
   "source": [
    "for i in range(350):\n",
    "    a=random.randint(0,1430)\n",
    "    training_data_new.append(training_data[a])"
   ]
  },
  {
   "cell_type": "code",
   "execution_count": 44,
   "metadata": {},
   "outputs": [
    {
     "data": {
      "text/plain": [
       "1431"
      ]
     },
     "execution_count": 44,
     "metadata": {},
     "output_type": "execute_result"
    }
   ],
   "source": [
    "training_data=[]\n",
    "path=os.path.join(datadir_faulty,\"OR007@12_3\")\n",
    "for img in os.listdir(path):\n",
    "    img_array=cv2.imread(os.path.join(path,img))\n",
    "    img_array_new=cv2.resize(img_array,(256,256))\n",
    "    training_data.append([img_array_new,\"OR007@12_3\"])\n",
    "len(training_data)"
   ]
  },
  {
   "cell_type": "code",
   "execution_count": 45,
   "metadata": {},
   "outputs": [],
   "source": [
    "for i in range(350):\n",
    "    a=random.randint(0,1430)\n",
    "    training_data_new.append(training_data[a])"
   ]
  },
  {
   "cell_type": "code",
   "execution_count": 46,
   "metadata": {},
   "outputs": [
    {
     "data": {
      "text/plain": [
       "7000"
      ]
     },
     "execution_count": 46,
     "metadata": {},
     "output_type": "execute_result"
    }
   ],
   "source": [
    "len(training_data_new)"
   ]
  },
  {
   "cell_type": "code",
   "execution_count": 47,
   "metadata": {},
   "outputs": [
    {
     "data": {
      "text/plain": [
       "1419"
      ]
     },
     "execution_count": 47,
     "metadata": {},
     "output_type": "execute_result"
    }
   ],
   "source": [
    "training_data=[]\n",
    "path=os.path.join(datadir_faulty,\"inner_race_0\")\n",
    "for img in os.listdir(path):\n",
    "    img_array=cv2.imread(os.path.join(path,img))\n",
    "    img_array_new=cv2.resize(img_array,(256,256))\n",
    "    training_data.append([img_array_new,\"inner_race_0\"])\n",
    "len(training_data)"
   ]
  },
  {
   "cell_type": "code",
   "execution_count": 48,
   "metadata": {},
   "outputs": [],
   "source": [
    "for i in range(350):\n",
    "    a=random.randint(0,1418)\n",
    "    training_data_new.append(training_data[a])"
   ]
  },
  {
   "cell_type": "code",
   "execution_count": 49,
   "metadata": {},
   "outputs": [
    {
     "data": {
      "text/plain": [
       "1428"
      ]
     },
     "execution_count": 49,
     "metadata": {},
     "output_type": "execute_result"
    }
   ],
   "source": [
    "training_data=[]\n",
    "path=os.path.join(datadir_faulty,\"inner_race_1\")\n",
    "for img in os.listdir(path):\n",
    "    img_array=cv2.imread(os.path.join(path,img))\n",
    "    img_array_new=cv2.resize(img_array,(256,256))\n",
    "    training_data.append([img_array_new,\"inner_race_1\"])\n",
    "len(training_data)"
   ]
  },
  {
   "cell_type": "code",
   "execution_count": 50,
   "metadata": {},
   "outputs": [],
   "source": [
    "for i in range(350):\n",
    "    a=random.randint(0,1427)\n",
    "    training_data_new.append(training_data[a])"
   ]
  },
  {
   "cell_type": "code",
   "execution_count": 51,
   "metadata": {},
   "outputs": [
    {
     "data": {
      "text/plain": [
       "1431"
      ]
     },
     "execution_count": 51,
     "metadata": {},
     "output_type": "execute_result"
    }
   ],
   "source": [
    "training_data=[]\n",
    "path=os.path.join(datadir_faulty,\"inner_race_2\")\n",
    "for img in os.listdir(path):\n",
    "    img_array=cv2.imread(os.path.join(path,img))\n",
    "    img_array_new=cv2.resize(img_array,(256,256))\n",
    "    training_data.append([img_array_new,\"inner_race_2\"])\n",
    "len(training_data)"
   ]
  },
  {
   "cell_type": "code",
   "execution_count": 52,
   "metadata": {},
   "outputs": [],
   "source": [
    "for i in range(350):\n",
    "    a=random.randint(0,1430)\n",
    "    training_data_new.append(training_data[a])"
   ]
  },
  {
   "cell_type": "code",
   "execution_count": 53,
   "metadata": {},
   "outputs": [
    {
     "data": {
      "text/plain": [
       "1440"
      ]
     },
     "execution_count": 53,
     "metadata": {},
     "output_type": "execute_result"
    }
   ],
   "source": [
    "training_data=[]\n",
    "path=os.path.join(datadir_faulty,\"inner_race_3\")\n",
    "for img in os.listdir(path):\n",
    "    img_array=cv2.imread(os.path.join(path,img))\n",
    "    img_array_new=cv2.resize(img_array,(256,256))\n",
    "    training_data.append([img_array_new,\"inner_race_3\"])\n",
    "len(training_data)"
   ]
  },
  {
   "cell_type": "code",
   "execution_count": 54,
   "metadata": {},
   "outputs": [],
   "source": [
    "for i in range(350):\n",
    "    a=random.randint(0,1439)\n",
    "    training_data_new.append(training_data[a])"
   ]
  },
  {
   "cell_type": "code",
   "execution_count": 55,
   "metadata": {},
   "outputs": [
    {
     "data": {
      "text/plain": [
       "8400"
      ]
     },
     "execution_count": 55,
     "metadata": {},
     "output_type": "execute_result"
    }
   ],
   "source": [
    "len(training_data_new)"
   ]
  },
  {
   "cell_type": "code",
   "execution_count": 56,
   "metadata": {},
   "outputs": [],
   "source": [
    "X=[]\n",
    "Y=[]"
   ]
  },
  {
   "cell_type": "code",
   "execution_count": 57,
   "metadata": {},
   "outputs": [],
   "source": [
    "for features,labels in training_data_new:\n",
    "    X.append(features)\n",
    "    Y.append(labels)\n",
    "    \n",
    "z=np.array(X)"
   ]
  },
  {
   "cell_type": "code",
   "execution_count": 58,
   "metadata": {},
   "outputs": [
    {
     "data": {
      "text/plain": [
       "array([[[[255, 255, 255],\n",
       "         [ 13,  13,  13],\n",
       "         [ 34,  34,  34],\n",
       "         ...,\n",
       "         [ 30,  30,  30],\n",
       "         [ 29,  29,  29],\n",
       "         [ 28,  28,  28]],\n",
       "\n",
       "        [[255, 255, 255],\n",
       "         [ 13,  13,  13],\n",
       "         [ 33,  33,  33],\n",
       "         ...,\n",
       "         [ 30,  30,  30],\n",
       "         [ 29,  29,  29],\n",
       "         [ 28,  28,  28]],\n",
       "\n",
       "        [[255, 255, 255],\n",
       "         [ 12,  12,  12],\n",
       "         [ 33,  33,  33],\n",
       "         ...,\n",
       "         [ 29,  29,  29],\n",
       "         [ 29,  29,  29],\n",
       "         [ 27,  27,  27]],\n",
       "\n",
       "        ...,\n",
       "\n",
       "        [[254, 254, 254],\n",
       "         [254, 254, 254],\n",
       "         [255, 255, 255],\n",
       "         ...,\n",
       "         [255, 255, 255],\n",
       "         [255, 255, 255],\n",
       "         [255, 255, 255]],\n",
       "\n",
       "        [[254, 254, 254],\n",
       "         [255, 255, 255],\n",
       "         [254, 254, 254],\n",
       "         ...,\n",
       "         [255, 255, 255],\n",
       "         [255, 255, 255],\n",
       "         [255, 255, 255]],\n",
       "\n",
       "        [[254, 254, 254],\n",
       "         [255, 255, 255],\n",
       "         [254, 254, 254],\n",
       "         ...,\n",
       "         [255, 255, 255],\n",
       "         [255, 255, 255],\n",
       "         [255, 255, 255]]],\n",
       "\n",
       "\n",
       "       [[[255, 255, 255],\n",
       "         [ 18,  18,  18],\n",
       "         [ 39,  39,  39],\n",
       "         ...,\n",
       "         [ 71,  71,  71],\n",
       "         [ 62,  62,  62],\n",
       "         [ 63,  63,  63]],\n",
       "\n",
       "        [[255, 255, 255],\n",
       "         [ 17,  17,  17],\n",
       "         [ 38,  38,  38],\n",
       "         ...,\n",
       "         [ 70,  70,  70],\n",
       "         [ 62,  62,  62],\n",
       "         [ 64,  64,  64]],\n",
       "\n",
       "        [[255, 255, 255],\n",
       "         [ 15,  15,  15],\n",
       "         [ 38,  38,  38],\n",
       "         ...,\n",
       "         [ 68,  68,  68],\n",
       "         [ 61,  61,  61],\n",
       "         [ 67,  67,  67]],\n",
       "\n",
       "        ...,\n",
       "\n",
       "        [[254, 254, 254],\n",
       "         [254, 254, 254],\n",
       "         [255, 255, 255],\n",
       "         ...,\n",
       "         [255, 255, 255],\n",
       "         [255, 255, 255],\n",
       "         [255, 255, 255]],\n",
       "\n",
       "        [[254, 254, 254],\n",
       "         [255, 255, 255],\n",
       "         [254, 254, 254],\n",
       "         ...,\n",
       "         [255, 255, 255],\n",
       "         [255, 255, 255],\n",
       "         [255, 255, 255]],\n",
       "\n",
       "        [[254, 254, 254],\n",
       "         [255, 255, 255],\n",
       "         [254, 254, 254],\n",
       "         ...,\n",
       "         [255, 255, 255],\n",
       "         [255, 255, 255],\n",
       "         [255, 255, 255]]],\n",
       "\n",
       "\n",
       "       [[[255, 255, 255],\n",
       "         [  6,   6,   6],\n",
       "         [  3,   3,   3],\n",
       "         ...,\n",
       "         [ 29,  29,  29],\n",
       "         [ 33,  33,  33],\n",
       "         [ 35,  35,  35]],\n",
       "\n",
       "        [[255, 255, 255],\n",
       "         [  6,   6,   6],\n",
       "         [  3,   3,   3],\n",
       "         ...,\n",
       "         [ 28,  28,  28],\n",
       "         [ 33,  33,  33],\n",
       "         [ 35,  35,  35]],\n",
       "\n",
       "        [[254, 254, 254],\n",
       "         [  7,   7,   7],\n",
       "         [  5,   5,   5],\n",
       "         ...,\n",
       "         [ 27,  27,  27],\n",
       "         [ 32,  32,  32],\n",
       "         [ 36,  36,  36]],\n",
       "\n",
       "        ...,\n",
       "\n",
       "        [[254, 254, 254],\n",
       "         [254, 254, 254],\n",
       "         [255, 255, 255],\n",
       "         ...,\n",
       "         [255, 255, 255],\n",
       "         [255, 255, 255],\n",
       "         [255, 255, 255]],\n",
       "\n",
       "        [[254, 254, 254],\n",
       "         [255, 255, 255],\n",
       "         [254, 254, 254],\n",
       "         ...,\n",
       "         [255, 255, 255],\n",
       "         [255, 255, 255],\n",
       "         [255, 255, 255]],\n",
       "\n",
       "        [[254, 254, 254],\n",
       "         [255, 255, 255],\n",
       "         [254, 254, 254],\n",
       "         ...,\n",
       "         [255, 255, 255],\n",
       "         [255, 255, 255],\n",
       "         [255, 255, 255]]],\n",
       "\n",
       "\n",
       "       ...,\n",
       "\n",
       "\n",
       "       [[[255, 255, 255],\n",
       "         [  4,   4,   4],\n",
       "         [  2,   2,   2],\n",
       "         ...,\n",
       "         [  4,   4,   4],\n",
       "         [  6,   6,   6],\n",
       "         [  2,   2,   2]],\n",
       "\n",
       "        [[255, 255, 255],\n",
       "         [  4,   4,   4],\n",
       "         [  2,   2,   2],\n",
       "         ...,\n",
       "         [  4,   4,   4],\n",
       "         [  6,   6,   6],\n",
       "         [  2,   2,   2]],\n",
       "\n",
       "        [[255, 255, 255],\n",
       "         [  3,   3,   3],\n",
       "         [  1,   1,   1],\n",
       "         ...,\n",
       "         [  5,   5,   5],\n",
       "         [  6,   6,   6],\n",
       "         [  3,   3,   3]],\n",
       "\n",
       "        ...,\n",
       "\n",
       "        [[254, 254, 254],\n",
       "         [254, 254, 254],\n",
       "         [255, 255, 255],\n",
       "         ...,\n",
       "         [255, 255, 255],\n",
       "         [255, 255, 255],\n",
       "         [255, 255, 255]],\n",
       "\n",
       "        [[254, 254, 254],\n",
       "         [255, 255, 255],\n",
       "         [254, 254, 254],\n",
       "         ...,\n",
       "         [255, 255, 255],\n",
       "         [255, 255, 255],\n",
       "         [255, 255, 255]],\n",
       "\n",
       "        [[254, 254, 254],\n",
       "         [255, 255, 255],\n",
       "         [254, 254, 254],\n",
       "         ...,\n",
       "         [255, 255, 255],\n",
       "         [255, 255, 255],\n",
       "         [255, 255, 255]]],\n",
       "\n",
       "\n",
       "       [[[255, 255, 255],\n",
       "         [  6,   6,   6],\n",
       "         [ 15,  15,  15],\n",
       "         ...,\n",
       "         [ 15,  15,  15],\n",
       "         [ 17,  17,  17],\n",
       "         [ 14,  14,  14]],\n",
       "\n",
       "        [[255, 255, 255],\n",
       "         [  5,   5,   5],\n",
       "         [ 15,  15,  15],\n",
       "         ...,\n",
       "         [ 17,  17,  17],\n",
       "         [ 16,  16,  16],\n",
       "         [ 14,  14,  14]],\n",
       "\n",
       "        [[255, 255, 255],\n",
       "         [  5,   5,   5],\n",
       "         [ 15,  15,  15],\n",
       "         ...,\n",
       "         [ 20,  20,  20],\n",
       "         [ 15,  15,  15],\n",
       "         [ 14,  14,  14]],\n",
       "\n",
       "        ...,\n",
       "\n",
       "        [[254, 254, 254],\n",
       "         [254, 254, 254],\n",
       "         [255, 255, 255],\n",
       "         ...,\n",
       "         [255, 255, 255],\n",
       "         [255, 255, 255],\n",
       "         [255, 255, 255]],\n",
       "\n",
       "        [[254, 254, 254],\n",
       "         [255, 255, 255],\n",
       "         [254, 254, 254],\n",
       "         ...,\n",
       "         [255, 255, 255],\n",
       "         [255, 255, 255],\n",
       "         [255, 255, 255]],\n",
       "\n",
       "        [[254, 254, 254],\n",
       "         [255, 255, 255],\n",
       "         [254, 254, 254],\n",
       "         ...,\n",
       "         [255, 255, 255],\n",
       "         [255, 255, 255],\n",
       "         [255, 255, 255]]],\n",
       "\n",
       "\n",
       "       [[[255, 255, 255],\n",
       "         [  6,   6,   6],\n",
       "         [  4,   4,   4],\n",
       "         ...,\n",
       "         [  5,   5,   5],\n",
       "         [  2,   2,   2],\n",
       "         [  4,   4,   4]],\n",
       "\n",
       "        [[255, 255, 255],\n",
       "         [  5,   5,   5],\n",
       "         [  5,   5,   5],\n",
       "         ...,\n",
       "         [  6,   6,   6],\n",
       "         [  3,   3,   3],\n",
       "         [  4,   4,   4]],\n",
       "\n",
       "        [[254, 254, 254],\n",
       "         [  4,   4,   4],\n",
       "         [  7,   7,   7],\n",
       "         ...,\n",
       "         [  7,   7,   7],\n",
       "         [  4,   4,   4],\n",
       "         [  4,   4,   4]],\n",
       "\n",
       "        ...,\n",
       "\n",
       "        [[254, 254, 254],\n",
       "         [254, 254, 254],\n",
       "         [255, 255, 255],\n",
       "         ...,\n",
       "         [255, 255, 255],\n",
       "         [255, 255, 255],\n",
       "         [255, 255, 255]],\n",
       "\n",
       "        [[254, 254, 254],\n",
       "         [255, 255, 255],\n",
       "         [254, 254, 254],\n",
       "         ...,\n",
       "         [255, 255, 255],\n",
       "         [255, 255, 255],\n",
       "         [255, 255, 255]],\n",
       "\n",
       "        [[254, 254, 254],\n",
       "         [255, 255, 255],\n",
       "         [254, 254, 254],\n",
       "         ...,\n",
       "         [255, 255, 255],\n",
       "         [255, 255, 255],\n",
       "         [255, 255, 255]]]], dtype=uint8)"
      ]
     },
     "execution_count": 58,
     "metadata": {},
     "output_type": "execute_result"
    }
   ],
   "source": [
    "z.reshape(-1,256,256,3)"
   ]
  },
  {
   "cell_type": "code",
   "execution_count": 59,
   "metadata": {},
   "outputs": [
    {
     "data": {
      "text/plain": [
       "array([['normal_0'],\n",
       "       ['normal_0'],\n",
       "       ['normal_0'],\n",
       "       ...,\n",
       "       ['inner_race_3'],\n",
       "       ['inner_race_3'],\n",
       "       ['inner_race_3']], dtype='<U12')"
      ]
     },
     "execution_count": 59,
     "metadata": {},
     "output_type": "execute_result"
    }
   ],
   "source": [
    "v=np.array(Y)\n",
    "v.reshape(-1,1)"
   ]
  },
  {
   "cell_type": "code",
   "execution_count": 60,
   "metadata": {},
   "outputs": [],
   "source": [
    "#z=z/255.0"
   ]
  },
  {
   "cell_type": "code",
   "execution_count": 61,
   "metadata": {},
   "outputs": [],
   "source": [
    "import pickle\n",
    "\n",
    "pickle_out=open(\"X_new.pickle\",\"wb\")\n",
    "pickle.dump(z,pickle_out)\n",
    "pickle_out.close()\n",
    "\n",
    "pickle_out=open(\"Y_new.pickle\",\"wb\")\n",
    "pickle.dump(v,pickle_out)\n",
    "pickle_out.close()"
   ]
  },
  {
   "cell_type": "code",
   "execution_count": null,
   "metadata": {},
   "outputs": [],
   "source": []
  }
 ],
 "metadata": {
  "kernelspec": {
   "display_name": "Python 3",
   "language": "python",
   "name": "python3"
  },
  "language_info": {
   "codemirror_mode": {
    "name": "ipython",
    "version": 3
   },
   "file_extension": ".py",
   "mimetype": "text/x-python",
   "name": "python",
   "nbconvert_exporter": "python",
   "pygments_lexer": "ipython3",
   "version": "3.8.5"
  }
 },
 "nbformat": 4,
 "nbformat_minor": 4
}
