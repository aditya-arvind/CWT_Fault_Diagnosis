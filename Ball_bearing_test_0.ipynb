{
  "nbformat": 4,
  "nbformat_minor": 0,
  "metadata": {
    "colab": {
      "name": "Ball_bearing_test_0.ipynb",
      "provenance": []
    },
    "kernelspec": {
      "name": "python3",
      "display_name": "Python 3"
    },
    "language_info": {
      "name": "python"
    },
    "accelerator": "GPU"
  },
  "cells": [
    {
      "cell_type": "markdown",
      "metadata": {
        "id": "s9Tx7GahOl-G"
      },
      "source": [
        "Code to mount Drive \n",
        "\n",
        "\n",
        "```\n",
        "from google.colab import drive\n",
        "drive.mount('/content/drive') \n",
        "```\n",
        "\n",
        "\n"
      ]
    },
    {
      "cell_type": "code",
      "metadata": {
        "colab": {
          "base_uri": "https://localhost:8080/"
        },
        "id": "rNH1hY8DVQCu",
        "outputId": "dbdf081a-f064-4ded-ccdb-bcb0723aec80"
      },
      "source": [
        "pip install deep-forest"
      ],
      "execution_count": null,
      "outputs": [
        {
          "output_type": "stream",
          "text": [
            "Collecting deep-forest\n",
            "\u001b[?25l  Downloading https://files.pythonhosted.org/packages/af/ce/ba656f54c61fa6a349bb633d92d8434772e68a8d74891d59f2492305eb40/deep_forest-0.1.5-cp37-cp37m-manylinux2010_x86_64.whl (2.4MB)\n",
            "\r\u001b[K     |▏                               | 10kB 18.9MB/s eta 0:00:01\r\u001b[K     |▎                               | 20kB 25.0MB/s eta 0:00:01\r\u001b[K     |▍                               | 30kB 28.6MB/s eta 0:00:01\r\u001b[K     |▌                               | 40kB 30.6MB/s eta 0:00:01\r\u001b[K     |▊                               | 51kB 32.2MB/s eta 0:00:01\r\u001b[K     |▉                               | 61kB 34.6MB/s eta 0:00:01\r\u001b[K     |█                               | 71kB 34.6MB/s eta 0:00:01\r\u001b[K     |█                               | 81kB 35.1MB/s eta 0:00:01\r\u001b[K     |█▏                              | 92kB 35.5MB/s eta 0:00:01\r\u001b[K     |█▍                              | 102kB 37.0MB/s eta 0:00:01\r\u001b[K     |█▌                              | 112kB 37.0MB/s eta 0:00:01\r\u001b[K     |█▋                              | 122kB 37.0MB/s eta 0:00:01\r\u001b[K     |█▊                              | 133kB 37.0MB/s eta 0:00:01\r\u001b[K     |█▉                              | 143kB 37.0MB/s eta 0:00:01\r\u001b[K     |██                              | 153kB 37.0MB/s eta 0:00:01\r\u001b[K     |██▏                             | 163kB 37.0MB/s eta 0:00:01\r\u001b[K     |██▎                             | 174kB 37.0MB/s eta 0:00:01\r\u001b[K     |██▍                             | 184kB 37.0MB/s eta 0:00:01\r\u001b[K     |██▌                             | 194kB 37.0MB/s eta 0:00:01\r\u001b[K     |██▊                             | 204kB 37.0MB/s eta 0:00:01\r\u001b[K     |██▉                             | 215kB 37.0MB/s eta 0:00:01\r\u001b[K     |███                             | 225kB 37.0MB/s eta 0:00:01\r\u001b[K     |███                             | 235kB 37.0MB/s eta 0:00:01\r\u001b[K     |███▎                            | 245kB 37.0MB/s eta 0:00:01\r\u001b[K     |███▍                            | 256kB 37.0MB/s eta 0:00:01\r\u001b[K     |███▌                            | 266kB 37.0MB/s eta 0:00:01\r\u001b[K     |███▋                            | 276kB 37.0MB/s eta 0:00:01\r\u001b[K     |███▊                            | 286kB 37.0MB/s eta 0:00:01\r\u001b[K     |████                            | 296kB 37.0MB/s eta 0:00:01\r\u001b[K     |████                            | 307kB 37.0MB/s eta 0:00:01\r\u001b[K     |████▏                           | 317kB 37.0MB/s eta 0:00:01\r\u001b[K     |████▎                           | 327kB 37.0MB/s eta 0:00:01\r\u001b[K     |████▍                           | 337kB 37.0MB/s eta 0:00:01\r\u001b[K     |████▋                           | 348kB 37.0MB/s eta 0:00:01\r\u001b[K     |████▊                           | 358kB 37.0MB/s eta 0:00:01\r\u001b[K     |████▉                           | 368kB 37.0MB/s eta 0:00:01\r\u001b[K     |█████                           | 378kB 37.0MB/s eta 0:00:01\r\u001b[K     |█████                           | 389kB 37.0MB/s eta 0:00:01\r\u001b[K     |█████▎                          | 399kB 37.0MB/s eta 0:00:01\r\u001b[K     |█████▍                          | 409kB 37.0MB/s eta 0:00:01\r\u001b[K     |█████▌                          | 419kB 37.0MB/s eta 0:00:01\r\u001b[K     |█████▋                          | 430kB 37.0MB/s eta 0:00:01\r\u001b[K     |█████▊                          | 440kB 37.0MB/s eta 0:00:01\r\u001b[K     |██████                          | 450kB 37.0MB/s eta 0:00:01\r\u001b[K     |██████                          | 460kB 37.0MB/s eta 0:00:01\r\u001b[K     |██████▏                         | 471kB 37.0MB/s eta 0:00:01\r\u001b[K     |██████▎                         | 481kB 37.0MB/s eta 0:00:01\r\u001b[K     |██████▌                         | 491kB 37.0MB/s eta 0:00:01\r\u001b[K     |██████▋                         | 501kB 37.0MB/s eta 0:00:01\r\u001b[K     |██████▊                         | 512kB 37.0MB/s eta 0:00:01\r\u001b[K     |██████▉                         | 522kB 37.0MB/s eta 0:00:01\r\u001b[K     |███████                         | 532kB 37.0MB/s eta 0:00:01\r\u001b[K     |███████▏                        | 542kB 37.0MB/s eta 0:00:01\r\u001b[K     |███████▎                        | 552kB 37.0MB/s eta 0:00:01\r\u001b[K     |███████▍                        | 563kB 37.0MB/s eta 0:00:01\r\u001b[K     |███████▌                        | 573kB 37.0MB/s eta 0:00:01\r\u001b[K     |███████▋                        | 583kB 37.0MB/s eta 0:00:01\r\u001b[K     |███████▉                        | 593kB 37.0MB/s eta 0:00:01\r\u001b[K     |████████                        | 604kB 37.0MB/s eta 0:00:01\r\u001b[K     |████████                        | 614kB 37.0MB/s eta 0:00:01\r\u001b[K     |████████▏                       | 624kB 37.0MB/s eta 0:00:01\r\u001b[K     |████████▎                       | 634kB 37.0MB/s eta 0:00:01\r\u001b[K     |████████▌                       | 645kB 37.0MB/s eta 0:00:01\r\u001b[K     |████████▋                       | 655kB 37.0MB/s eta 0:00:01\r\u001b[K     |████████▊                       | 665kB 37.0MB/s eta 0:00:01\r\u001b[K     |████████▉                       | 675kB 37.0MB/s eta 0:00:01\r\u001b[K     |█████████                       | 686kB 37.0MB/s eta 0:00:01\r\u001b[K     |█████████▏                      | 696kB 37.0MB/s eta 0:00:01\r\u001b[K     |█████████▎                      | 706kB 37.0MB/s eta 0:00:01\r\u001b[K     |█████████▍                      | 716kB 37.0MB/s eta 0:00:01\r\u001b[K     |█████████▌                      | 727kB 37.0MB/s eta 0:00:01\r\u001b[K     |█████████▊                      | 737kB 37.0MB/s eta 0:00:01\r\u001b[K     |█████████▉                      | 747kB 37.0MB/s eta 0:00:01\r\u001b[K     |██████████                      | 757kB 37.0MB/s eta 0:00:01\r\u001b[K     |██████████                      | 768kB 37.0MB/s eta 0:00:01\r\u001b[K     |██████████▏                     | 778kB 37.0MB/s eta 0:00:01\r\u001b[K     |██████████▍                     | 788kB 37.0MB/s eta 0:00:01\r\u001b[K     |██████████▌                     | 798kB 37.0MB/s eta 0:00:01\r\u001b[K     |██████████▋                     | 808kB 37.0MB/s eta 0:00:01\r\u001b[K     |██████████▊                     | 819kB 37.0MB/s eta 0:00:01\r\u001b[K     |██████████▉                     | 829kB 37.0MB/s eta 0:00:01\r\u001b[K     |███████████                     | 839kB 37.0MB/s eta 0:00:01\r\u001b[K     |███████████▏                    | 849kB 37.0MB/s eta 0:00:01\r\u001b[K     |███████████▎                    | 860kB 37.0MB/s eta 0:00:01\r\u001b[K     |███████████▍                    | 870kB 37.0MB/s eta 0:00:01\r\u001b[K     |███████████▌                    | 880kB 37.0MB/s eta 0:00:01\r\u001b[K     |███████████▊                    | 890kB 37.0MB/s eta 0:00:01\r\u001b[K     |███████████▉                    | 901kB 37.0MB/s eta 0:00:01\r\u001b[K     |████████████                    | 911kB 37.0MB/s eta 0:00:01\r\u001b[K     |████████████                    | 921kB 37.0MB/s eta 0:00:01\r\u001b[K     |████████████▎                   | 931kB 37.0MB/s eta 0:00:01\r\u001b[K     |████████████▍                   | 942kB 37.0MB/s eta 0:00:01\r\u001b[K     |████████████▌                   | 952kB 37.0MB/s eta 0:00:01\r\u001b[K     |████████████▋                   | 962kB 37.0MB/s eta 0:00:01\r\u001b[K     |████████████▊                   | 972kB 37.0MB/s eta 0:00:01\r\u001b[K     |█████████████                   | 983kB 37.0MB/s eta 0:00:01\r\u001b[K     |█████████████                   | 993kB 37.0MB/s eta 0:00:01\r\u001b[K     |█████████████▏                  | 1.0MB 37.0MB/s eta 0:00:01\r\u001b[K     |█████████████▎                  | 1.0MB 37.0MB/s eta 0:00:01\r\u001b[K     |█████████████▍                  | 1.0MB 37.0MB/s eta 0:00:01\r\u001b[K     |█████████████▋                  | 1.0MB 37.0MB/s eta 0:00:01\r\u001b[K     |█████████████▊                  | 1.0MB 37.0MB/s eta 0:00:01\r\u001b[K     |█████████████▉                  | 1.1MB 37.0MB/s eta 0:00:01\r\u001b[K     |██████████████                  | 1.1MB 37.0MB/s eta 0:00:01\r\u001b[K     |██████████████                  | 1.1MB 37.0MB/s eta 0:00:01\r\u001b[K     |██████████████▎                 | 1.1MB 37.0MB/s eta 0:00:01\r\u001b[K     |██████████████▍                 | 1.1MB 37.0MB/s eta 0:00:01\r\u001b[K     |██████████████▌                 | 1.1MB 37.0MB/s eta 0:00:01\r\u001b[K     |██████████████▋                 | 1.1MB 37.0MB/s eta 0:00:01\r\u001b[K     |██████████████▊                 | 1.1MB 37.0MB/s eta 0:00:01\r\u001b[K     |███████████████                 | 1.1MB 37.0MB/s eta 0:00:01\r\u001b[K     |███████████████                 | 1.1MB 37.0MB/s eta 0:00:01\r\u001b[K     |███████████████▏                | 1.2MB 37.0MB/s eta 0:00:01\r\u001b[K     |███████████████▎                | 1.2MB 37.0MB/s eta 0:00:01\r\u001b[K     |███████████████▌                | 1.2MB 37.0MB/s eta 0:00:01\r\u001b[K     |███████████████▋                | 1.2MB 37.0MB/s eta 0:00:01\r\u001b[K     |███████████████▊                | 1.2MB 37.0MB/s eta 0:00:01\r\u001b[K     |███████████████▉                | 1.2MB 37.0MB/s eta 0:00:01\r\u001b[K     |████████████████                | 1.2MB 37.0MB/s eta 0:00:01\r\u001b[K     |████████████████▏               | 1.2MB 37.0MB/s eta 0:00:01\r\u001b[K     |████████████████▎               | 1.2MB 37.0MB/s eta 0:00:01\r\u001b[K     |████████████████▍               | 1.2MB 37.0MB/s eta 0:00:01\r\u001b[K     |████████████████▌               | 1.3MB 37.0MB/s eta 0:00:01\r\u001b[K     |████████████████▋               | 1.3MB 37.0MB/s eta 0:00:01\r\u001b[K     |████████████████▉               | 1.3MB 37.0MB/s eta 0:00:01\r\u001b[K     |█████████████████               | 1.3MB 37.0MB/s eta 0:00:01\r\u001b[K     |█████████████████               | 1.3MB 37.0MB/s eta 0:00:01\r\u001b[K     |█████████████████▏              | 1.3MB 37.0MB/s eta 0:00:01\r\u001b[K     |█████████████████▎              | 1.3MB 37.0MB/s eta 0:00:01\r\u001b[K     |█████████████████▌              | 1.3MB 37.0MB/s eta 0:00:01\r\u001b[K     |█████████████████▋              | 1.3MB 37.0MB/s eta 0:00:01\r\u001b[K     |█████████████████▊              | 1.4MB 37.0MB/s eta 0:00:01\r\u001b[K     |█████████████████▉              | 1.4MB 37.0MB/s eta 0:00:01\r\u001b[K     |██████████████████              | 1.4MB 37.0MB/s eta 0:00:01\r\u001b[K     |██████████████████▏             | 1.4MB 37.0MB/s eta 0:00:01\r\u001b[K     |██████████████████▎             | 1.4MB 37.0MB/s eta 0:00:01\r\u001b[K     |██████████████████▍             | 1.4MB 37.0MB/s eta 0:00:01\r\u001b[K     |██████████████████▌             | 1.4MB 37.0MB/s eta 0:00:01\r\u001b[K     |██████████████████▊             | 1.4MB 37.0MB/s eta 0:00:01\r\u001b[K     |██████████████████▉             | 1.4MB 37.0MB/s eta 0:00:01\r\u001b[K     |███████████████████             | 1.4MB 37.0MB/s eta 0:00:01\r\u001b[K     |███████████████████             | 1.5MB 37.0MB/s eta 0:00:01\r\u001b[K     |███████████████████▏            | 1.5MB 37.0MB/s eta 0:00:01\r\u001b[K     |███████████████████▍            | 1.5MB 37.0MB/s eta 0:00:01\r\u001b[K     |███████████████████▌            | 1.5MB 37.0MB/s eta 0:00:01\r\u001b[K     |███████████████████▋            | 1.5MB 37.0MB/s eta 0:00:01\r\u001b[K     |███████████████████▊            | 1.5MB 37.0MB/s eta 0:00:01\r\u001b[K     |███████████████████▉            | 1.5MB 37.0MB/s eta 0:00:01\r\u001b[K     |████████████████████            | 1.5MB 37.0MB/s eta 0:00:01\r\u001b[K     |████████████████████▏           | 1.5MB 37.0MB/s eta 0:00:01\r\u001b[K     |████████████████████▎           | 1.5MB 37.0MB/s eta 0:00:01\r\u001b[K     |████████████████████▍           | 1.6MB 37.0MB/s eta 0:00:01\r\u001b[K     |████████████████████▌           | 1.6MB 37.0MB/s eta 0:00:01\r\u001b[K     |████████████████████▊           | 1.6MB 37.0MB/s eta 0:00:01\r\u001b[K     |████████████████████▉           | 1.6MB 37.0MB/s eta 0:00:01\r\u001b[K     |█████████████████████           | 1.6MB 37.0MB/s eta 0:00:01\r\u001b[K     |█████████████████████           | 1.6MB 37.0MB/s eta 0:00:01\r\u001b[K     |█████████████████████▎          | 1.6MB 37.0MB/s eta 0:00:01\r\u001b[K     |█████████████████████▍          | 1.6MB 37.0MB/s eta 0:00:01\r\u001b[K     |█████████████████████▌          | 1.6MB 37.0MB/s eta 0:00:01\r\u001b[K     |█████████████████████▋          | 1.6MB 37.0MB/s eta 0:00:01\r\u001b[K     |█████████████████████▊          | 1.7MB 37.0MB/s eta 0:00:01\r\u001b[K     |██████████████████████          | 1.7MB 37.0MB/s eta 0:00:01\r\u001b[K     |██████████████████████          | 1.7MB 37.0MB/s eta 0:00:01\r\u001b[K     |██████████████████████▏         | 1.7MB 37.0MB/s eta 0:00:01\r\u001b[K     |██████████████████████▎         | 1.7MB 37.0MB/s eta 0:00:01\r\u001b[K     |██████████████████████▍         | 1.7MB 37.0MB/s eta 0:00:01\r\u001b[K     |██████████████████████▋         | 1.7MB 37.0MB/s eta 0:00:01\r\u001b[K     |██████████████████████▊         | 1.7MB 37.0MB/s eta 0:00:01\r\u001b[K     |██████████████████████▉         | 1.7MB 37.0MB/s eta 0:00:01\r\u001b[K     |███████████████████████         | 1.8MB 37.0MB/s eta 0:00:01\r\u001b[K     |███████████████████████         | 1.8MB 37.0MB/s eta 0:00:01\r\u001b[K     |███████████████████████▎        | 1.8MB 37.0MB/s eta 0:00:01\r\u001b[K     |███████████████████████▍        | 1.8MB 37.0MB/s eta 0:00:01\r\u001b[K     |███████████████████████▌        | 1.8MB 37.0MB/s eta 0:00:01\r\u001b[K     |███████████████████████▋        | 1.8MB 37.0MB/s eta 0:00:01\r\u001b[K     |███████████████████████▊        | 1.8MB 37.0MB/s eta 0:00:01\r\u001b[K     |████████████████████████        | 1.8MB 37.0MB/s eta 0:00:01\r\u001b[K     |████████████████████████        | 1.8MB 37.0MB/s eta 0:00:01\r\u001b[K     |████████████████████████▏       | 1.8MB 37.0MB/s eta 0:00:01\r\u001b[K     |████████████████████████▎       | 1.9MB 37.0MB/s eta 0:00:01\r\u001b[K     |████████████████████████▌       | 1.9MB 37.0MB/s eta 0:00:01\r\u001b[K     |████████████████████████▋       | 1.9MB 37.0MB/s eta 0:00:01\r\u001b[K     |████████████████████████▊       | 1.9MB 37.0MB/s eta 0:00:01\r\u001b[K     |████████████████████████▉       | 1.9MB 37.0MB/s eta 0:00:01\r\u001b[K     |█████████████████████████       | 1.9MB 37.0MB/s eta 0:00:01\r\u001b[K     |█████████████████████████▏      | 1.9MB 37.0MB/s eta 0:00:01\r\u001b[K     |█████████████████████████▎      | 1.9MB 37.0MB/s eta 0:00:01\r\u001b[K     |█████████████████████████▍      | 1.9MB 37.0MB/s eta 0:00:01\r\u001b[K     |█████████████████████████▌      | 1.9MB 37.0MB/s eta 0:00:01\r\u001b[K     |█████████████████████████▋      | 2.0MB 37.0MB/s eta 0:00:01\r\u001b[K     |█████████████████████████▉      | 2.0MB 37.0MB/s eta 0:00:01\r\u001b[K     |██████████████████████████      | 2.0MB 37.0MB/s eta 0:00:01\r\u001b[K     |██████████████████████████      | 2.0MB 37.0MB/s eta 0:00:01\r\u001b[K     |██████████████████████████▏     | 2.0MB 37.0MB/s eta 0:00:01\r\u001b[K     |██████████████████████████▎     | 2.0MB 37.0MB/s eta 0:00:01\r\u001b[K     |██████████████████████████▌     | 2.0MB 37.0MB/s eta 0:00:01\r\u001b[K     |██████████████████████████▋     | 2.0MB 37.0MB/s eta 0:00:01\r\u001b[K     |██████████████████████████▊     | 2.0MB 37.0MB/s eta 0:00:01\r\u001b[K     |██████████████████████████▉     | 2.0MB 37.0MB/s eta 0:00:01\r\u001b[K     |███████████████████████████     | 2.1MB 37.0MB/s eta 0:00:01\r\u001b[K     |███████████████████████████▏    | 2.1MB 37.0MB/s eta 0:00:01\r\u001b[K     |███████████████████████████▎    | 2.1MB 37.0MB/s eta 0:00:01\r\u001b[K     |███████████████████████████▍    | 2.1MB 37.0MB/s eta 0:00:01\r\u001b[K     |███████████████████████████▌    | 2.1MB 37.0MB/s eta 0:00:01\r\u001b[K     |███████████████████████████▊    | 2.1MB 37.0MB/s eta 0:00:01\r\u001b[K     |███████████████████████████▉    | 2.1MB 37.0MB/s eta 0:00:01\r\u001b[K     |████████████████████████████    | 2.1MB 37.0MB/s eta 0:00:01\r\u001b[K     |████████████████████████████    | 2.1MB 37.0MB/s eta 0:00:01\r\u001b[K     |████████████████████████████▏   | 2.2MB 37.0MB/s eta 0:00:01\r\u001b[K     |████████████████████████████▍   | 2.2MB 37.0MB/s eta 0:00:01\r\u001b[K     |████████████████████████████▌   | 2.2MB 37.0MB/s eta 0:00:01\r\u001b[K     |████████████████████████████▋   | 2.2MB 37.0MB/s eta 0:00:01\r\u001b[K     |████████████████████████████▊   | 2.2MB 37.0MB/s eta 0:00:01\r\u001b[K     |████████████████████████████▉   | 2.2MB 37.0MB/s eta 0:00:01\r\u001b[K     |█████████████████████████████   | 2.2MB 37.0MB/s eta 0:00:01\r\u001b[K     |█████████████████████████████▏  | 2.2MB 37.0MB/s eta 0:00:01\r\u001b[K     |█████████████████████████████▎  | 2.2MB 37.0MB/s eta 0:00:01\r\u001b[K     |█████████████████████████████▍  | 2.2MB 37.0MB/s eta 0:00:01\r\u001b[K     |█████████████████████████████▌  | 2.3MB 37.0MB/s eta 0:00:01\r\u001b[K     |█████████████████████████████▊  | 2.3MB 37.0MB/s eta 0:00:01\r\u001b[K     |█████████████████████████████▉  | 2.3MB 37.0MB/s eta 0:00:01\r\u001b[K     |██████████████████████████████  | 2.3MB 37.0MB/s eta 0:00:01\r\u001b[K     |██████████████████████████████  | 2.3MB 37.0MB/s eta 0:00:01\r\u001b[K     |██████████████████████████████▎ | 2.3MB 37.0MB/s eta 0:00:01\r\u001b[K     |██████████████████████████████▍ | 2.3MB 37.0MB/s eta 0:00:01\r\u001b[K     |██████████████████████████████▌ | 2.3MB 37.0MB/s eta 0:00:01\r\u001b[K     |██████████████████████████████▋ | 2.3MB 37.0MB/s eta 0:00:01\r\u001b[K     |██████████████████████████████▊ | 2.3MB 37.0MB/s eta 0:00:01\r\u001b[K     |███████████████████████████████ | 2.4MB 37.0MB/s eta 0:00:01\r\u001b[K     |███████████████████████████████ | 2.4MB 37.0MB/s eta 0:00:01\r\u001b[K     |███████████████████████████████▏| 2.4MB 37.0MB/s eta 0:00:01\r\u001b[K     |███████████████████████████████▎| 2.4MB 37.0MB/s eta 0:00:01\r\u001b[K     |███████████████████████████████▍| 2.4MB 37.0MB/s eta 0:00:01\r\u001b[K     |███████████████████████████████▋| 2.4MB 37.0MB/s eta 0:00:01\r\u001b[K     |███████████████████████████████▊| 2.4MB 37.0MB/s eta 0:00:01\r\u001b[K     |███████████████████████████████▉| 2.4MB 37.0MB/s eta 0:00:01\r\u001b[K     |████████████████████████████████| 2.4MB 37.0MB/s eta 0:00:01\r\u001b[K     |████████████████████████████████| 2.4MB 37.0MB/s \n",
            "\u001b[?25hRequirement already satisfied: numpy<1.20.0,>=1.16.0 in /usr/local/lib/python3.7/dist-packages (from deep-forest) (1.19.5)\n",
            "Requirement already satisfied: scipy>=0.19.1 in /usr/local/lib/python3.7/dist-packages (from deep-forest) (1.4.1)\n",
            "Requirement already satisfied: joblib>=0.11 in /usr/local/lib/python3.7/dist-packages (from deep-forest) (1.0.1)\n",
            "Requirement already satisfied: scikit-learn>=0.22 in /usr/local/lib/python3.7/dist-packages (from deep-forest) (0.22.2.post1)\n",
            "Installing collected packages: deep-forest\n",
            "Successfully installed deep-forest-0.1.5\n"
          ],
          "name": "stdout"
        }
      ]
    },
    {
      "cell_type": "code",
      "metadata": {
        "id": "kXkGYF5PN-Xc"
      },
      "source": [
        "import tensorflow as tf\n",
        "import numpy as np\n",
        "from tensorflow.keras.models import Model, Sequential\n",
        "from tensorflow.keras.layers import Dense, Dropout, Activation, Flatten, BatchNormalization\n",
        "from tensorflow.keras.layers import Conv2D, MaxPooling2D\n",
        "import pickle\n",
        "from sklearn.model_selection import train_test_split\n",
        "from sklearn.metrics import accuracy_score\n",
        "from deepforest import CascadeForestClassifier"
      ],
      "execution_count": null,
      "outputs": []
    },
    {
      "cell_type": "code",
      "metadata": {
        "id": "6a6wD5EpN_77"
      },
      "source": [
        "pickle_in = open(\"/content/drive/MyDrive/Ball_bearing_test_0/X.pickle\",\"rb\")\n",
        "X = pickle.load(pickle_in)\n",
        "pickle_in = open(\"/content/drive/MyDrive/Ball_bearing_test_0/Y.pickle\",\"rb\")\n",
        "y = pickle.load(pickle_in)"
      ],
      "execution_count": null,
      "outputs": []
    },
    {
      "cell_type": "code",
      "metadata": {
        "id": "4HBaZad9OISv"
      },
      "source": [
        " X_train, X_test, y_train, y_test = train_test_split(X, y, test_size=0.30,shuffle=True,stratify=y)"
      ],
      "execution_count": null,
      "outputs": []
    },
    {
      "cell_type": "markdown",
      "metadata": {
        "id": "0Uxj8KlgVmJ7"
      },
      "source": [
        "Training and evaluating accuracy for CNN model"
      ]
    },
    {
      "cell_type": "code",
      "metadata": {
        "id": "IB5CjdQWOKZN"
      },
      "source": [
        "feature_extractor = Sequential()\n",
        "feature_extractor.add(Conv2D(256, (3, 3), input_shape=X.shape[1:]))\n",
        "feature_extractor.add(BatchNormalization())\n",
        "feature_extractor.add(Activation('relu'))\n",
        "feature_extractor.add(MaxPooling2D(pool_size=(2, 2)))\n",
        "\n",
        "feature_extractor.add(Conv2D(256, (3, 3)))\n",
        "feature_extractor.add(Activation('relu'))\n",
        "feature_extractor.add(Dropout(0.5))\n",
        "feature_extractor.add(MaxPooling2D(pool_size=(2, 2)))\n",
        "\n",
        "feature_extractor.add(Flatten())"
      ],
      "execution_count": null,
      "outputs": []
    },
    {
      "cell_type": "code",
      "metadata": {
        "id": "mf14sOowzTuo"
      },
      "source": [
        "x=feature_extractor.output\n",
        "x=Dense(64,activation='relu')(x)\n",
        "prediction_layer=Dense(1,activation='sigmoid')(x)"
      ],
      "execution_count": null,
      "outputs": []
    },
    {
      "cell_type": "code",
      "metadata": {
        "colab": {
          "base_uri": "https://localhost:8080/"
        },
        "id": "kCJAnBPn0j7f",
        "outputId": "da543a0b-f758-4669-a724-8af93647616d"
      },
      "source": [
        "cnn_model=Model(inputs=feature_extractor.input,outputs=prediction_layer)\n",
        "cnn_model.compile(loss='binary_crossentropy',\n",
        "              optimizer='adam',\n",
        "              metrics=['accuracy'])\n",
        "print(cnn_model.summary())"
      ],
      "execution_count": null,
      "outputs": [
        {
          "output_type": "stream",
          "text": [
            "Model: \"model\"\n",
            "_________________________________________________________________\n",
            "Layer (type)                 Output Shape              Param #   \n",
            "=================================================================\n",
            "conv2d_input (InputLayer)    [(None, 256, 256, 3)]     0         \n",
            "_________________________________________________________________\n",
            "conv2d (Conv2D)              (None, 254, 254, 256)     7168      \n",
            "_________________________________________________________________\n",
            "batch_normalization (BatchNo (None, 254, 254, 256)     1024      \n",
            "_________________________________________________________________\n",
            "activation (Activation)      (None, 254, 254, 256)     0         \n",
            "_________________________________________________________________\n",
            "max_pooling2d (MaxPooling2D) (None, 127, 127, 256)     0         \n",
            "_________________________________________________________________\n",
            "conv2d_1 (Conv2D)            (None, 125, 125, 256)     590080    \n",
            "_________________________________________________________________\n",
            "activation_1 (Activation)    (None, 125, 125, 256)     0         \n",
            "_________________________________________________________________\n",
            "dropout (Dropout)            (None, 125, 125, 256)     0         \n",
            "_________________________________________________________________\n",
            "max_pooling2d_1 (MaxPooling2 (None, 62, 62, 256)       0         \n",
            "_________________________________________________________________\n",
            "flatten (Flatten)            (None, 984064)            0         \n",
            "_________________________________________________________________\n",
            "dense (Dense)                (None, 64)                62980160  \n",
            "_________________________________________________________________\n",
            "dense_1 (Dense)              (None, 1)                 65        \n",
            "=================================================================\n",
            "Total params: 63,578,497\n",
            "Trainable params: 63,577,985\n",
            "Non-trainable params: 512\n",
            "_________________________________________________________________\n",
            "None\n"
          ],
          "name": "stdout"
        }
      ]
    },
    {
      "cell_type": "code",
      "metadata": {
        "colab": {
          "base_uri": "https://localhost:8080/"
        },
        "id": "tmqtRbHN1Q5P",
        "outputId": "4339c9e3-f390-4fac-b594-2c67a1e54379"
      },
      "source": [
        "history=cnn_model.fit(X_train, y_train, batch_size=32, epochs=3, validation_data=(X_test,y_test))"
      ],
      "execution_count": null,
      "outputs": [
        {
          "output_type": "stream",
          "text": [
            "Epoch 1/3\n",
            "250/250 [==============================] - 178s 574ms/step - loss: 12.5443 - accuracy: 0.9937 - val_loss: 0.0000e+00 - val_accuracy: 1.0000\n",
            "Epoch 2/3\n",
            "250/250 [==============================] - 139s 557ms/step - loss: 0.0000e+00 - accuracy: 1.0000 - val_loss: 0.0000e+00 - val_accuracy: 1.0000\n",
            "Epoch 3/3\n",
            "250/250 [==============================] - 139s 557ms/step - loss: 0.0000e+00 - accuracy: 1.0000 - val_loss: 0.0000e+00 - val_accuracy: 1.0000\n"
          ],
          "name": "stdout"
        }
      ]
    },
    {
      "cell_type": "code",
      "metadata": {
        "colab": {
          "base_uri": "https://localhost:8080/"
        },
        "id": "VboopvHY_ZxA",
        "outputId": "cb8f70fd-cf86-4986-ecb5-e396aa2a7b2a"
      },
      "source": [
        "feature_extractor.save('/content/drive/MyDrive/Ball_bearing_test_0/Model')"
      ],
      "execution_count": null,
      "outputs": [
        {
          "output_type": "stream",
          "text": [
            "WARNING:tensorflow:Compiled the loaded model, but the compiled metrics have yet to be built. `model.compile_metrics` will be empty until you train or evaluate the model.\n",
            "INFO:tensorflow:Assets written to: /content/drive/MyDrive/Ball_bearing_test_0/Model/assets\n"
          ],
          "name": "stdout"
        }
      ]
    },
    {
      "cell_type": "markdown",
      "metadata": {
        "id": "b7DJCmEL5j0b"
      },
      "source": [
        "Plotting training and validation loss plots"
      ]
    },
    {
      "cell_type": "code",
      "metadata": {
        "colab": {
          "base_uri": "https://localhost:8080/"
        },
        "id": "zx5PTqVP5UZU",
        "outputId": "51e28b55-5388-4798-8a2f-322b7aec22e7"
      },
      "source": [
        "X_train.shape"
      ],
      "execution_count": null,
      "outputs": [
        {
          "output_type": "execute_result",
          "data": {
            "text/plain": [
              "(7999, 256, 256, 3)"
            ]
          },
          "metadata": {
            "tags": []
          },
          "execution_count": 21
        }
      ]
    },
    {
      "cell_type": "code",
      "metadata": {
        "id": "MMe6V76EORf9"
      },
      "source": [
        "# model.save('path/to/location')"
      ],
      "execution_count": null,
      "outputs": []
    },
    {
      "cell_type": "markdown",
      "metadata": {
        "id": "1IpPXJx5U5O4"
      },
      "source": [
        "Evaluating Test accuracy for Deep Forest"
      ]
    },
    {
      "cell_type": "code",
      "metadata": {
        "id": "avs0RNkJ5u9D"
      },
      "source": [
        "X_cascade_forest=X_train.reshape(X_train.shape[0],-1)"
      ],
      "execution_count": null,
      "outputs": []
    },
    {
      "cell_type": "code",
      "metadata": {
        "id": "tkJjzCuPUk0O"
      },
      "source": [
        "model = CascadeForestClassifier(random_state=1)\n",
        "model.fit(X_cascade_forest, y_train)"
      ],
      "execution_count": null,
      "outputs": []
    },
    {
      "cell_type": "code",
      "metadata": {
        "colab": {
          "base_uri": "https://localhost:8080/"
        },
        "id": "yK0OdY4J9Yao",
        "outputId": "03455d4a-300d-4601-c8a0-aec6f0d2b5cb"
      },
      "source": [
        "X_test_cascade=X_test.reshape(X_train.shape[0],-1)\n",
        "\n",
        "y_pred = model.predict(X_test)\n",
        "acc = accuracy_score(y_test, y_pred) * 100\n",
        "print(\"\\nTesting Accuracy: {:.3f} %\".format(acc))"
      ],
      "execution_count": null,
      "outputs": [
        {
          "output_type": "stream",
          "text": [
            "[2021-07-16 15:35:56.296] Start to fit the model:\n",
            "[2021-07-16 15:35:56.296] Fitting cascade layer = 0 \n",
            "[2021-07-16 15:35:57.177] layer = 0  | Val Acc = 97.996 % | Elapsed = 0.880 s\n",
            "[2021-07-16 15:35:57.182] Fitting cascade layer = 1 \n",
            "[2021-07-16 15:35:58.090] layer = 1  | Val Acc = 98.144 % | Elapsed = 0.907 s\n",
            "[2021-07-16 15:35:58.094] Fitting cascade layer = 2 \n",
            "[2021-07-16 15:35:58.888] layer = 2  | Val Acc = 97.921 % | Elapsed = 0.794 s\n",
            "[2021-07-16 15:35:58.888] Early stopping counter: 1 out of 2\n",
            "[2021-07-16 15:35:58.893] Fitting cascade layer = 3 \n",
            "[2021-07-16 15:35:59.712] layer = 3  | Val Acc = 97.476 % | Elapsed = 0.819 s\n",
            "[2021-07-16 15:35:59.712] Early stopping counter: 2 out of 2\n",
            "[2021-07-16 15:35:59.712] Handling early stopping\n",
            "[2021-07-16 15:35:59.713] The optimal number of layers: 2\n",
            "[2021-07-16 15:35:59.715] Start to evalute the model:\n",
            "[2021-07-16 15:35:59.718] Evaluating cascade layer = 0 \n",
            "[2021-07-16 15:35:59.760] Evaluating cascade layer = 1 \n",
            "\n",
            "Testing Accuracy: 98.667 %\n"
          ],
          "name": "stdout"
        }
      ]
    },
    {
      "cell_type": "code",
      "metadata": {
        "colab": {
          "base_uri": "https://localhost:8080/"
        },
        "id": "GnfaqqCx9g5b",
        "outputId": "91138378-3622-4a1c-e6ac-b478af9c698b"
      },
      "source": [
        "X_new, y_new = load_digits(return_X_y=True)\n",
        "X_new.shape,y_new.shape"
      ],
      "execution_count": null,
      "outputs": [
        {
          "output_type": "execute_result",
          "data": {
            "text/plain": [
              "((1797, 64), (1797,))"
            ]
          },
          "metadata": {
            "tags": []
          },
          "execution_count": 4
        }
      ]
    },
    {
      "cell_type": "code",
      "metadata": {
        "colab": {
          "base_uri": "https://localhost:8080/"
        },
        "id": "zFrCNPMo-wMV",
        "outputId": "6123ef0c-f647-4f9c-a474-6a6497784ea5"
      },
      "source": [
        "X.shape,y.shape"
      ],
      "execution_count": null,
      "outputs": [
        {
          "output_type": "execute_result",
          "data": {
            "text/plain": [
              "((11428, 256, 256, 3), (11428,))"
            ]
          },
          "metadata": {
            "tags": []
          },
          "execution_count": 9
        }
      ]
    },
    {
      "cell_type": "markdown",
      "metadata": {
        "id": "fUCiGQPQVhj2"
      },
      "source": [
        "Combining both models to improve accuracy\n"
      ]
    },
    {
      "cell_type": "code",
      "metadata": {
        "colab": {
          "base_uri": "https://localhost:8080/",
          "height": 504
        },
        "id": "8Zyc6qlg9fxt",
        "outputId": "4e3b9f4a-eb1b-4654-b1b6-4fbd5f83eeed"
      },
      "source": [
        "X_cascade_forest=feature_extractor.predict(X_train)"
      ],
      "execution_count": null,
      "outputs": [
        {
          "output_type": "error",
          "ename": "ResourceExhaustedError",
          "evalue": "ignored",
          "traceback": [
            "\u001b[0;31m---------------------------------------------------------------------------\u001b[0m",
            "\u001b[0;31mResourceExhaustedError\u001b[0m                    Traceback (most recent call last)",
            "\u001b[0;32m<ipython-input-20-0a98f146fba1>\u001b[0m in \u001b[0;36m<module>\u001b[0;34m()\u001b[0m\n\u001b[0;32m----> 1\u001b[0;31m \u001b[0mX_cascade_forest\u001b[0m\u001b[0;34m=\u001b[0m\u001b[0mfeature_extractor\u001b[0m\u001b[0;34m.\u001b[0m\u001b[0mpredict\u001b[0m\u001b[0;34m(\u001b[0m\u001b[0mX_train\u001b[0m\u001b[0;34m)\u001b[0m\u001b[0;34m\u001b[0m\u001b[0;34m\u001b[0m\u001b[0m\n\u001b[0m",
            "\u001b[0;32m/usr/local/lib/python3.7/dist-packages/tensorflow/python/keras/engine/training.py\u001b[0m in \u001b[0;36mpredict\u001b[0;34m(self, x, batch_size, verbose, steps, callbacks, max_queue_size, workers, use_multiprocessing)\u001b[0m\n\u001b[1;32m   1725\u001b[0m           \u001b[0;32mfor\u001b[0m \u001b[0mstep\u001b[0m \u001b[0;32min\u001b[0m \u001b[0mdata_handler\u001b[0m\u001b[0;34m.\u001b[0m\u001b[0msteps\u001b[0m\u001b[0;34m(\u001b[0m\u001b[0;34m)\u001b[0m\u001b[0;34m:\u001b[0m\u001b[0;34m\u001b[0m\u001b[0;34m\u001b[0m\u001b[0m\n\u001b[1;32m   1726\u001b[0m             \u001b[0mcallbacks\u001b[0m\u001b[0;34m.\u001b[0m\u001b[0mon_predict_batch_begin\u001b[0m\u001b[0;34m(\u001b[0m\u001b[0mstep\u001b[0m\u001b[0;34m)\u001b[0m\u001b[0;34m\u001b[0m\u001b[0;34m\u001b[0m\u001b[0m\n\u001b[0;32m-> 1727\u001b[0;31m             \u001b[0mtmp_batch_outputs\u001b[0m \u001b[0;34m=\u001b[0m \u001b[0mself\u001b[0m\u001b[0;34m.\u001b[0m\u001b[0mpredict_function\u001b[0m\u001b[0;34m(\u001b[0m\u001b[0miterator\u001b[0m\u001b[0;34m)\u001b[0m\u001b[0;34m\u001b[0m\u001b[0;34m\u001b[0m\u001b[0m\n\u001b[0m\u001b[1;32m   1728\u001b[0m             \u001b[0;32mif\u001b[0m \u001b[0mdata_handler\u001b[0m\u001b[0;34m.\u001b[0m\u001b[0mshould_sync\u001b[0m\u001b[0;34m:\u001b[0m\u001b[0;34m\u001b[0m\u001b[0;34m\u001b[0m\u001b[0m\n\u001b[1;32m   1729\u001b[0m               \u001b[0mcontext\u001b[0m\u001b[0;34m.\u001b[0m\u001b[0masync_wait\u001b[0m\u001b[0;34m(\u001b[0m\u001b[0;34m)\u001b[0m\u001b[0;34m\u001b[0m\u001b[0;34m\u001b[0m\u001b[0m\n",
            "\u001b[0;32m/usr/local/lib/python3.7/dist-packages/tensorflow/python/eager/def_function.py\u001b[0m in \u001b[0;36m__call__\u001b[0;34m(self, *args, **kwds)\u001b[0m\n\u001b[1;32m    887\u001b[0m \u001b[0;34m\u001b[0m\u001b[0m\n\u001b[1;32m    888\u001b[0m       \u001b[0;32mwith\u001b[0m \u001b[0mOptionalXlaContext\u001b[0m\u001b[0;34m(\u001b[0m\u001b[0mself\u001b[0m\u001b[0;34m.\u001b[0m\u001b[0m_jit_compile\u001b[0m\u001b[0;34m)\u001b[0m\u001b[0;34m:\u001b[0m\u001b[0;34m\u001b[0m\u001b[0;34m\u001b[0m\u001b[0m\n\u001b[0;32m--> 889\u001b[0;31m         \u001b[0mresult\u001b[0m \u001b[0;34m=\u001b[0m \u001b[0mself\u001b[0m\u001b[0;34m.\u001b[0m\u001b[0m_call\u001b[0m\u001b[0;34m(\u001b[0m\u001b[0;34m*\u001b[0m\u001b[0margs\u001b[0m\u001b[0;34m,\u001b[0m \u001b[0;34m**\u001b[0m\u001b[0mkwds\u001b[0m\u001b[0;34m)\u001b[0m\u001b[0;34m\u001b[0m\u001b[0;34m\u001b[0m\u001b[0m\n\u001b[0m\u001b[1;32m    890\u001b[0m \u001b[0;34m\u001b[0m\u001b[0m\n\u001b[1;32m    891\u001b[0m       \u001b[0mnew_tracing_count\u001b[0m \u001b[0;34m=\u001b[0m \u001b[0mself\u001b[0m\u001b[0;34m.\u001b[0m\u001b[0mexperimental_get_tracing_count\u001b[0m\u001b[0;34m(\u001b[0m\u001b[0;34m)\u001b[0m\u001b[0;34m\u001b[0m\u001b[0;34m\u001b[0m\u001b[0m\n",
            "\u001b[0;32m/usr/local/lib/python3.7/dist-packages/tensorflow/python/eager/def_function.py\u001b[0m in \u001b[0;36m_call\u001b[0;34m(self, *args, **kwds)\u001b[0m\n\u001b[1;32m    922\u001b[0m       \u001b[0;31m# In this case we have not created variables on the first call. So we can\u001b[0m\u001b[0;34m\u001b[0m\u001b[0;34m\u001b[0m\u001b[0;34m\u001b[0m\u001b[0m\n\u001b[1;32m    923\u001b[0m       \u001b[0;31m# run the first trace but we should fail if variables are created.\u001b[0m\u001b[0;34m\u001b[0m\u001b[0;34m\u001b[0m\u001b[0;34m\u001b[0m\u001b[0m\n\u001b[0;32m--> 924\u001b[0;31m       \u001b[0mresults\u001b[0m \u001b[0;34m=\u001b[0m \u001b[0mself\u001b[0m\u001b[0;34m.\u001b[0m\u001b[0m_stateful_fn\u001b[0m\u001b[0;34m(\u001b[0m\u001b[0;34m*\u001b[0m\u001b[0margs\u001b[0m\u001b[0;34m,\u001b[0m \u001b[0;34m**\u001b[0m\u001b[0mkwds\u001b[0m\u001b[0;34m)\u001b[0m\u001b[0;34m\u001b[0m\u001b[0;34m\u001b[0m\u001b[0m\n\u001b[0m\u001b[1;32m    925\u001b[0m       \u001b[0;32mif\u001b[0m \u001b[0mself\u001b[0m\u001b[0;34m.\u001b[0m\u001b[0m_created_variables\u001b[0m\u001b[0;34m:\u001b[0m\u001b[0;34m\u001b[0m\u001b[0;34m\u001b[0m\u001b[0m\n\u001b[1;32m    926\u001b[0m         raise ValueError(\"Creating variables on a non-first call to a function\"\n",
            "\u001b[0;32m/usr/local/lib/python3.7/dist-packages/tensorflow/python/eager/function.py\u001b[0m in \u001b[0;36m__call__\u001b[0;34m(self, *args, **kwargs)\u001b[0m\n\u001b[1;32m   3022\u001b[0m        filtered_flat_args) = self._maybe_define_function(args, kwargs)\n\u001b[1;32m   3023\u001b[0m     return graph_function._call_flat(\n\u001b[0;32m-> 3024\u001b[0;31m         filtered_flat_args, captured_inputs=graph_function.captured_inputs)  # pylint: disable=protected-access\n\u001b[0m\u001b[1;32m   3025\u001b[0m \u001b[0;34m\u001b[0m\u001b[0m\n\u001b[1;32m   3026\u001b[0m   \u001b[0;34m@\u001b[0m\u001b[0mproperty\u001b[0m\u001b[0;34m\u001b[0m\u001b[0;34m\u001b[0m\u001b[0m\n",
            "\u001b[0;32m/usr/local/lib/python3.7/dist-packages/tensorflow/python/eager/function.py\u001b[0m in \u001b[0;36m_call_flat\u001b[0;34m(self, args, captured_inputs, cancellation_manager)\u001b[0m\n\u001b[1;32m   1959\u001b[0m       \u001b[0;31m# No tape is watching; skip to running the function.\u001b[0m\u001b[0;34m\u001b[0m\u001b[0;34m\u001b[0m\u001b[0;34m\u001b[0m\u001b[0m\n\u001b[1;32m   1960\u001b[0m       return self._build_call_outputs(self._inference_function.call(\n\u001b[0;32m-> 1961\u001b[0;31m           ctx, args, cancellation_manager=cancellation_manager))\n\u001b[0m\u001b[1;32m   1962\u001b[0m     forward_backward = self._select_forward_and_backward_functions(\n\u001b[1;32m   1963\u001b[0m         \u001b[0margs\u001b[0m\u001b[0;34m,\u001b[0m\u001b[0;34m\u001b[0m\u001b[0;34m\u001b[0m\u001b[0m\n",
            "\u001b[0;32m/usr/local/lib/python3.7/dist-packages/tensorflow/python/eager/function.py\u001b[0m in \u001b[0;36mcall\u001b[0;34m(self, ctx, args, cancellation_manager)\u001b[0m\n\u001b[1;32m    594\u001b[0m               \u001b[0minputs\u001b[0m\u001b[0;34m=\u001b[0m\u001b[0margs\u001b[0m\u001b[0;34m,\u001b[0m\u001b[0;34m\u001b[0m\u001b[0;34m\u001b[0m\u001b[0m\n\u001b[1;32m    595\u001b[0m               \u001b[0mattrs\u001b[0m\u001b[0;34m=\u001b[0m\u001b[0mattrs\u001b[0m\u001b[0;34m,\u001b[0m\u001b[0;34m\u001b[0m\u001b[0;34m\u001b[0m\u001b[0m\n\u001b[0;32m--> 596\u001b[0;31m               ctx=ctx)\n\u001b[0m\u001b[1;32m    597\u001b[0m         \u001b[0;32melse\u001b[0m\u001b[0;34m:\u001b[0m\u001b[0;34m\u001b[0m\u001b[0;34m\u001b[0m\u001b[0m\n\u001b[1;32m    598\u001b[0m           outputs = execute.execute_with_cancellation(\n",
            "\u001b[0;32m/usr/local/lib/python3.7/dist-packages/tensorflow/python/eager/execute.py\u001b[0m in \u001b[0;36mquick_execute\u001b[0;34m(op_name, num_outputs, inputs, attrs, ctx, name)\u001b[0m\n\u001b[1;32m     58\u001b[0m     \u001b[0mctx\u001b[0m\u001b[0;34m.\u001b[0m\u001b[0mensure_initialized\u001b[0m\u001b[0;34m(\u001b[0m\u001b[0;34m)\u001b[0m\u001b[0;34m\u001b[0m\u001b[0;34m\u001b[0m\u001b[0m\n\u001b[1;32m     59\u001b[0m     tensors = pywrap_tfe.TFE_Py_Execute(ctx._handle, device_name, op_name,\n\u001b[0;32m---> 60\u001b[0;31m                                         inputs, attrs, num_outputs)\n\u001b[0m\u001b[1;32m     61\u001b[0m   \u001b[0;32mexcept\u001b[0m \u001b[0mcore\u001b[0m\u001b[0;34m.\u001b[0m\u001b[0m_NotOkStatusException\u001b[0m \u001b[0;32mas\u001b[0m \u001b[0me\u001b[0m\u001b[0;34m:\u001b[0m\u001b[0;34m\u001b[0m\u001b[0;34m\u001b[0m\u001b[0m\n\u001b[1;32m     62\u001b[0m     \u001b[0;32mif\u001b[0m \u001b[0mname\u001b[0m \u001b[0;32mis\u001b[0m \u001b[0;32mnot\u001b[0m \u001b[0;32mNone\u001b[0m\u001b[0;34m:\u001b[0m\u001b[0;34m\u001b[0m\u001b[0;34m\u001b[0m\u001b[0m\n",
            "\u001b[0;31mResourceExhaustedError\u001b[0m:  OOM when allocating tensor with shape[32,256,254,254] and type float on /job:localhost/replica:0/task:0/device:GPU:0 by allocator GPU_0_bfc\n\t [[node sequential/batch_normalization/FusedBatchNormV3 (defined at <ipython-input-20-0a98f146fba1>:1) ]]\nHint: If you want to see a list of allocated tensors when OOM happens, add report_tensor_allocations_upon_oom to RunOptions for current allocation info.\n [Op:__inference_predict_function_3813]\n\nFunction call stack:\npredict_function\n"
          ]
        }
      ]
    },
    {
      "cell_type": "code",
      "metadata": {
        "id": "dl1nKpOMUv98"
      },
      "source": [
        "hybrid_model= CascadeForestClassifier(random_state=1)\n",
        "hybrid_model.fit(X_cascade_forest, y_train)\n",
        "y_pred = ball_bearing.predict(X_test)\n",
        "acc = accuracy_score(y_test, y_pred) * 100\n",
        "print(\"\\nTesting Accuracy: {:.3f} %\".format(acc))"
      ],
      "execution_count": null,
      "outputs": []
    },
    {
      "cell_type": "code",
      "metadata": {
        "id": "YPPr1yTLIDQd"
      },
      "source": [
        "X_1=feature_extractor.predict(X_train[0:100])\n",
        "X_2= feature_extractor.predict(X_test[10:500])"
      ],
      "execution_count": null,
      "outputs": []
    },
    {
      "cell_type": "code",
      "metadata": {
        "colab": {
          "base_uri": "https://localhost:8080/"
        },
        "id": "9ev1NHK_LUx2",
        "outputId": "b9910026-1bfc-429f-caf9-d51272e2425b"
      },
      "source": [
        "from sklearn.ensemble import RandomForestClassifier as rf\n",
        "rf_model=rf(n_estimators=50,random_state=42)\n",
        "rf_model.fit(X_1,y_train[0:10])\n",
        "y_pred = rf_model.predict(X_2)\n",
        "acc = accuracy_score(y_test[10:50], y_pred) * 100\n",
        "print(\"\\nTesting Accuracy: {:.3f} %\".format(acc))\n"
      ],
      "execution_count": null,
      "outputs": [
        {
          "output_type": "stream",
          "text": [
            "\n",
            "Testing Accuracy: 100.000 %\n"
          ],
          "name": "stdout"
        }
      ]
    },
    {
      "cell_type": "code",
      "metadata": {
        "colab": {
          "base_uri": "https://localhost:8080/",
          "height": 595
        },
        "id": "Y2Xww-YQy6Kx",
        "outputId": "2c96b221-519f-466b-d9b0-e651769efe0a"
      },
      "source": [
        "hybrid_model= CascadeForestClassifier()\n",
        "hybrid_model.fit(X_1, y_train[0:10])\n",
        "y_pred = ball_bearing.predict(X_2)\n",
        "acc = accuracy_score(y_test[10:50], y_pred) * 100\n",
        "print(\"\\nTesting Accuracy: {:.3f} %\".format(acc))"
      ],
      "execution_count": null,
      "outputs": [
        {
          "output_type": "stream",
          "text": [
            "[2021-07-16 21:14:20.021] Start to fit the model:\n",
            "[2021-07-16 21:14:20.022] Fitting cascade layer = 0 \n"
          ],
          "name": "stdout"
        },
        {
          "output_type": "error",
          "ename": "MemoryError",
          "evalue": "ignored",
          "traceback": [
            "\u001b[0;31m---------------------------------------------------------------------------\u001b[0m",
            "\u001b[0;31mMemoryError\u001b[0m                               Traceback (most recent call last)",
            "\u001b[0;32m<ipython-input-18-0b9b6dcbd8a2>\u001b[0m in \u001b[0;36m<module>\u001b[0;34m()\u001b[0m\n\u001b[1;32m      1\u001b[0m \u001b[0mhybrid_model\u001b[0m\u001b[0;34m=\u001b[0m \u001b[0mCascadeForestClassifier\u001b[0m\u001b[0;34m(\u001b[0m\u001b[0;34m)\u001b[0m\u001b[0;34m\u001b[0m\u001b[0;34m\u001b[0m\u001b[0m\n\u001b[0;32m----> 2\u001b[0;31m \u001b[0mhybrid_model\u001b[0m\u001b[0;34m.\u001b[0m\u001b[0mfit\u001b[0m\u001b[0;34m(\u001b[0m\u001b[0mX_1\u001b[0m\u001b[0;34m,\u001b[0m \u001b[0my_train\u001b[0m\u001b[0;34m[\u001b[0m\u001b[0;36m0\u001b[0m\u001b[0;34m:\u001b[0m\u001b[0;36m10\u001b[0m\u001b[0;34m]\u001b[0m\u001b[0;34m)\u001b[0m\u001b[0;34m\u001b[0m\u001b[0;34m\u001b[0m\u001b[0m\n\u001b[0m\u001b[1;32m      3\u001b[0m \u001b[0my_pred\u001b[0m \u001b[0;34m=\u001b[0m \u001b[0mball_bearing\u001b[0m\u001b[0;34m.\u001b[0m\u001b[0mpredict\u001b[0m\u001b[0;34m(\u001b[0m\u001b[0mX_2\u001b[0m\u001b[0;34m)\u001b[0m\u001b[0;34m\u001b[0m\u001b[0;34m\u001b[0m\u001b[0m\n\u001b[1;32m      4\u001b[0m \u001b[0macc\u001b[0m \u001b[0;34m=\u001b[0m \u001b[0maccuracy_score\u001b[0m\u001b[0;34m(\u001b[0m\u001b[0my_test\u001b[0m\u001b[0;34m[\u001b[0m\u001b[0;36m10\u001b[0m\u001b[0;34m:\u001b[0m\u001b[0;36m50\u001b[0m\u001b[0;34m]\u001b[0m\u001b[0;34m,\u001b[0m \u001b[0my_pred\u001b[0m\u001b[0;34m)\u001b[0m \u001b[0;34m*\u001b[0m \u001b[0;36m100\u001b[0m\u001b[0;34m\u001b[0m\u001b[0;34m\u001b[0m\u001b[0m\n\u001b[1;32m      5\u001b[0m \u001b[0mprint\u001b[0m\u001b[0;34m(\u001b[0m\u001b[0;34m\"\\nTesting Accuracy: {:.3f} %\"\u001b[0m\u001b[0;34m.\u001b[0m\u001b[0mformat\u001b[0m\u001b[0;34m(\u001b[0m\u001b[0macc\u001b[0m\u001b[0;34m)\u001b[0m\u001b[0;34m)\u001b[0m\u001b[0;34m\u001b[0m\u001b[0;34m\u001b[0m\u001b[0m\n",
            "\u001b[0;32m/usr/local/lib/python3.7/dist-packages/deepforest/cascade.py\u001b[0m in \u001b[0;36mfit\u001b[0;34m(self, X, y, sample_weight)\u001b[0m\n\u001b[1;32m   1395\u001b[0m         \u001b[0my\u001b[0m \u001b[0;34m=\u001b[0m \u001b[0mself\u001b[0m\u001b[0;34m.\u001b[0m\u001b[0m_encode_class_labels\u001b[0m\u001b[0;34m(\u001b[0m\u001b[0my\u001b[0m\u001b[0;34m)\u001b[0m\u001b[0;34m\u001b[0m\u001b[0;34m\u001b[0m\u001b[0m\n\u001b[1;32m   1396\u001b[0m \u001b[0;34m\u001b[0m\u001b[0m\n\u001b[0;32m-> 1397\u001b[0;31m         \u001b[0msuper\u001b[0m\u001b[0;34m(\u001b[0m\u001b[0;34m)\u001b[0m\u001b[0;34m.\u001b[0m\u001b[0mfit\u001b[0m\u001b[0;34m(\u001b[0m\u001b[0mX\u001b[0m\u001b[0;34m,\u001b[0m \u001b[0my\u001b[0m\u001b[0;34m,\u001b[0m \u001b[0msample_weight\u001b[0m\u001b[0;34m)\u001b[0m\u001b[0;34m\u001b[0m\u001b[0;34m\u001b[0m\u001b[0m\n\u001b[0m\u001b[1;32m   1398\u001b[0m \u001b[0;34m\u001b[0m\u001b[0m\n\u001b[1;32m   1399\u001b[0m     \u001b[0;32mdef\u001b[0m \u001b[0mpredict_proba\u001b[0m\u001b[0;34m(\u001b[0m\u001b[0mself\u001b[0m\u001b[0;34m,\u001b[0m \u001b[0mX\u001b[0m\u001b[0;34m)\u001b[0m\u001b[0;34m:\u001b[0m\u001b[0;34m\u001b[0m\u001b[0;34m\u001b[0m\u001b[0m\n",
            "\u001b[0;32m/usr/local/lib/python3.7/dist-packages/deepforest/cascade.py\u001b[0m in \u001b[0;36mfit\u001b[0;34m(self, X, y, sample_weight)\u001b[0m\n\u001b[1;32m    786\u001b[0m         \u001b[0mtic\u001b[0m \u001b[0;34m=\u001b[0m \u001b[0mtime\u001b[0m\u001b[0;34m.\u001b[0m\u001b[0mtime\u001b[0m\u001b[0;34m(\u001b[0m\u001b[0;34m)\u001b[0m\u001b[0;34m\u001b[0m\u001b[0;34m\u001b[0m\u001b[0m\n\u001b[1;32m    787\u001b[0m         X_aug_train_ = layer_.fit_transform(\n\u001b[0;32m--> 788\u001b[0;31m             \u001b[0mX_train_\u001b[0m\u001b[0;34m,\u001b[0m \u001b[0my\u001b[0m\u001b[0;34m,\u001b[0m \u001b[0msample_weight\u001b[0m\u001b[0;34m=\u001b[0m\u001b[0msample_weight\u001b[0m\u001b[0;34m\u001b[0m\u001b[0;34m\u001b[0m\u001b[0m\n\u001b[0m\u001b[1;32m    789\u001b[0m         )\n\u001b[1;32m    790\u001b[0m         \u001b[0mtoc\u001b[0m \u001b[0;34m=\u001b[0m \u001b[0mtime\u001b[0m\u001b[0;34m.\u001b[0m\u001b[0mtime\u001b[0m\u001b[0;34m(\u001b[0m\u001b[0;34m)\u001b[0m\u001b[0;34m\u001b[0m\u001b[0;34m\u001b[0m\u001b[0m\n",
            "\u001b[0;32m/usr/local/lib/python3.7/dist-packages/deepforest/_layer.py\u001b[0m in \u001b[0;36mfit_transform\u001b[0;34m(self, X, y, sample_weight)\u001b[0m\n\u001b[1;32m    215\u001b[0m                 \u001b[0mself\u001b[0m\u001b[0;34m.\u001b[0m\u001b[0mbuffer\u001b[0m\u001b[0;34m,\u001b[0m\u001b[0;34m\u001b[0m\u001b[0;34m\u001b[0m\u001b[0m\n\u001b[1;32m    216\u001b[0m                 \u001b[0mself\u001b[0m\u001b[0;34m.\u001b[0m\u001b[0mverbose\u001b[0m\u001b[0;34m,\u001b[0m\u001b[0;34m\u001b[0m\u001b[0;34m\u001b[0m\u001b[0m\n\u001b[0;32m--> 217\u001b[0;31m                 \u001b[0msample_weight\u001b[0m\u001b[0;34m,\u001b[0m\u001b[0;34m\u001b[0m\u001b[0;34m\u001b[0m\u001b[0m\n\u001b[0m\u001b[1;32m    218\u001b[0m             )\n\u001b[1;32m    219\u001b[0m             \u001b[0mX_aug\u001b[0m\u001b[0;34m.\u001b[0m\u001b[0mappend\u001b[0m\u001b[0;34m(\u001b[0m\u001b[0mX_aug_\u001b[0m\u001b[0;34m)\u001b[0m\u001b[0;34m\u001b[0m\u001b[0;34m\u001b[0m\u001b[0m\n",
            "\u001b[0;32m/usr/local/lib/python3.7/dist-packages/deepforest/_layer.py\u001b[0m in \u001b[0;36m_build_estimator\u001b[0;34m(X, y, layer_idx, estimator_idx, estimator_name, estimator, oob_decision_function, partial_mode, buffer, verbose, sample_weight)\u001b[0m\n\u001b[1;32m     38\u001b[0m         \u001b[0mprint\u001b[0m\u001b[0;34m(\u001b[0m\u001b[0mmsg\u001b[0m\u001b[0;34m.\u001b[0m\u001b[0mformat\u001b[0m\u001b[0;34m(\u001b[0m\u001b[0m_utils\u001b[0m\u001b[0;34m.\u001b[0m\u001b[0mctime\u001b[0m\u001b[0;34m(\u001b[0m\u001b[0;34m)\u001b[0m\u001b[0;34m,\u001b[0m \u001b[0mkey\u001b[0m\u001b[0;34m,\u001b[0m \u001b[0mlayer_idx\u001b[0m\u001b[0;34m)\u001b[0m\u001b[0;34m)\u001b[0m\u001b[0;34m\u001b[0m\u001b[0;34m\u001b[0m\u001b[0m\n\u001b[1;32m     39\u001b[0m \u001b[0;34m\u001b[0m\u001b[0m\n\u001b[0;32m---> 40\u001b[0;31m     \u001b[0mX_aug_train\u001b[0m \u001b[0;34m=\u001b[0m \u001b[0mestimator\u001b[0m\u001b[0;34m.\u001b[0m\u001b[0mfit_transform\u001b[0m\u001b[0;34m(\u001b[0m\u001b[0mX\u001b[0m\u001b[0;34m,\u001b[0m \u001b[0my\u001b[0m\u001b[0;34m,\u001b[0m \u001b[0msample_weight\u001b[0m\u001b[0;34m)\u001b[0m\u001b[0;34m\u001b[0m\u001b[0;34m\u001b[0m\u001b[0m\n\u001b[0m\u001b[1;32m     41\u001b[0m     \u001b[0moob_decision_function\u001b[0m \u001b[0;34m+=\u001b[0m \u001b[0mestimator\u001b[0m\u001b[0;34m.\u001b[0m\u001b[0moob_decision_function_\u001b[0m\u001b[0;34m\u001b[0m\u001b[0;34m\u001b[0m\u001b[0m\n\u001b[1;32m     42\u001b[0m \u001b[0;34m\u001b[0m\u001b[0m\n",
            "\u001b[0;32m/usr/local/lib/python3.7/dist-packages/deepforest/_estimator.py\u001b[0m in \u001b[0;36mfit_transform\u001b[0;34m(self, X, y, sample_weight)\u001b[0m\n\u001b[1;32m    197\u001b[0m \u001b[0;34m\u001b[0m\u001b[0m\n\u001b[1;32m    198\u001b[0m     \u001b[0;32mdef\u001b[0m \u001b[0mfit_transform\u001b[0m\u001b[0;34m(\u001b[0m\u001b[0mself\u001b[0m\u001b[0;34m,\u001b[0m \u001b[0mX\u001b[0m\u001b[0;34m,\u001b[0m \u001b[0my\u001b[0m\u001b[0;34m,\u001b[0m \u001b[0msample_weight\u001b[0m\u001b[0;34m=\u001b[0m\u001b[0;32mNone\u001b[0m\u001b[0;34m)\u001b[0m\u001b[0;34m:\u001b[0m\u001b[0;34m\u001b[0m\u001b[0;34m\u001b[0m\u001b[0m\n\u001b[0;32m--> 199\u001b[0;31m         \u001b[0mself\u001b[0m\u001b[0;34m.\u001b[0m\u001b[0mestimator_\u001b[0m\u001b[0;34m.\u001b[0m\u001b[0mfit\u001b[0m\u001b[0;34m(\u001b[0m\u001b[0mX\u001b[0m\u001b[0;34m,\u001b[0m \u001b[0my\u001b[0m\u001b[0;34m,\u001b[0m \u001b[0msample_weight\u001b[0m\u001b[0;34m)\u001b[0m\u001b[0;34m\u001b[0m\u001b[0;34m\u001b[0m\u001b[0m\n\u001b[0m\u001b[1;32m    200\u001b[0m         \u001b[0;32mreturn\u001b[0m \u001b[0mself\u001b[0m\u001b[0;34m.\u001b[0m\u001b[0moob_decision_function_\u001b[0m\u001b[0;34m\u001b[0m\u001b[0;34m\u001b[0m\u001b[0m\n\u001b[1;32m    201\u001b[0m \u001b[0;34m\u001b[0m\u001b[0m\n",
            "\u001b[0;32m/usr/local/lib/python3.7/dist-packages/deepforest/forest.py\u001b[0m in \u001b[0;36mfit\u001b[0;34m(self, X, y, sample_weight)\u001b[0m\n\u001b[1;32m    477\u001b[0m                 \u001b[0mlock\u001b[0m\u001b[0;34m,\u001b[0m\u001b[0;34m\u001b[0m\u001b[0;34m\u001b[0m\u001b[0m\n\u001b[1;32m    478\u001b[0m             )\n\u001b[0;32m--> 479\u001b[0;31m             \u001b[0;32mfor\u001b[0m \u001b[0mi\u001b[0m\u001b[0;34m,\u001b[0m \u001b[0mt\u001b[0m \u001b[0;32min\u001b[0m \u001b[0menumerate\u001b[0m\u001b[0;34m(\u001b[0m\u001b[0mtrees\u001b[0m\u001b[0;34m)\u001b[0m\u001b[0;34m\u001b[0m\u001b[0;34m\u001b[0m\u001b[0m\n\u001b[0m\u001b[1;32m    480\u001b[0m         )\n\u001b[1;32m    481\u001b[0m         \u001b[0;31m# Collect newly grown trees\u001b[0m\u001b[0;34m\u001b[0m\u001b[0;34m\u001b[0m\u001b[0;34m\u001b[0m\u001b[0m\n",
            "\u001b[0;32m/usr/local/lib/python3.7/dist-packages/joblib/parallel.py\u001b[0m in \u001b[0;36m__call__\u001b[0;34m(self, iterable)\u001b[0m\n\u001b[1;32m   1039\u001b[0m             \u001b[0;31m# remaining jobs.\u001b[0m\u001b[0;34m\u001b[0m\u001b[0;34m\u001b[0m\u001b[0;34m\u001b[0m\u001b[0m\n\u001b[1;32m   1040\u001b[0m             \u001b[0mself\u001b[0m\u001b[0;34m.\u001b[0m\u001b[0m_iterating\u001b[0m \u001b[0;34m=\u001b[0m \u001b[0;32mFalse\u001b[0m\u001b[0;34m\u001b[0m\u001b[0;34m\u001b[0m\u001b[0m\n\u001b[0;32m-> 1041\u001b[0;31m             \u001b[0;32mif\u001b[0m \u001b[0mself\u001b[0m\u001b[0;34m.\u001b[0m\u001b[0mdispatch_one_batch\u001b[0m\u001b[0;34m(\u001b[0m\u001b[0miterator\u001b[0m\u001b[0;34m)\u001b[0m\u001b[0;34m:\u001b[0m\u001b[0;34m\u001b[0m\u001b[0;34m\u001b[0m\u001b[0m\n\u001b[0m\u001b[1;32m   1042\u001b[0m                 \u001b[0mself\u001b[0m\u001b[0;34m.\u001b[0m\u001b[0m_iterating\u001b[0m \u001b[0;34m=\u001b[0m \u001b[0mself\u001b[0m\u001b[0;34m.\u001b[0m\u001b[0m_original_iterator\u001b[0m \u001b[0;32mis\u001b[0m \u001b[0;32mnot\u001b[0m \u001b[0;32mNone\u001b[0m\u001b[0;34m\u001b[0m\u001b[0;34m\u001b[0m\u001b[0m\n\u001b[1;32m   1043\u001b[0m \u001b[0;34m\u001b[0m\u001b[0m\n",
            "\u001b[0;32m/usr/local/lib/python3.7/dist-packages/joblib/parallel.py\u001b[0m in \u001b[0;36mdispatch_one_batch\u001b[0;34m(self, iterator)\u001b[0m\n\u001b[1;32m    857\u001b[0m                 \u001b[0;32mreturn\u001b[0m \u001b[0;32mFalse\u001b[0m\u001b[0;34m\u001b[0m\u001b[0;34m\u001b[0m\u001b[0m\n\u001b[1;32m    858\u001b[0m             \u001b[0;32melse\u001b[0m\u001b[0;34m:\u001b[0m\u001b[0;34m\u001b[0m\u001b[0;34m\u001b[0m\u001b[0m\n\u001b[0;32m--> 859\u001b[0;31m                 \u001b[0mself\u001b[0m\u001b[0;34m.\u001b[0m\u001b[0m_dispatch\u001b[0m\u001b[0;34m(\u001b[0m\u001b[0mtasks\u001b[0m\u001b[0;34m)\u001b[0m\u001b[0;34m\u001b[0m\u001b[0;34m\u001b[0m\u001b[0m\n\u001b[0m\u001b[1;32m    860\u001b[0m                 \u001b[0;32mreturn\u001b[0m \u001b[0;32mTrue\u001b[0m\u001b[0;34m\u001b[0m\u001b[0;34m\u001b[0m\u001b[0m\n\u001b[1;32m    861\u001b[0m \u001b[0;34m\u001b[0m\u001b[0m\n",
            "\u001b[0;32m/usr/local/lib/python3.7/dist-packages/joblib/parallel.py\u001b[0m in \u001b[0;36m_dispatch\u001b[0;34m(self, batch)\u001b[0m\n\u001b[1;32m    775\u001b[0m         \u001b[0;32mwith\u001b[0m \u001b[0mself\u001b[0m\u001b[0;34m.\u001b[0m\u001b[0m_lock\u001b[0m\u001b[0;34m:\u001b[0m\u001b[0;34m\u001b[0m\u001b[0;34m\u001b[0m\u001b[0m\n\u001b[1;32m    776\u001b[0m             \u001b[0mjob_idx\u001b[0m \u001b[0;34m=\u001b[0m \u001b[0mlen\u001b[0m\u001b[0;34m(\u001b[0m\u001b[0mself\u001b[0m\u001b[0;34m.\u001b[0m\u001b[0m_jobs\u001b[0m\u001b[0;34m)\u001b[0m\u001b[0;34m\u001b[0m\u001b[0;34m\u001b[0m\u001b[0m\n\u001b[0;32m--> 777\u001b[0;31m             \u001b[0mjob\u001b[0m \u001b[0;34m=\u001b[0m \u001b[0mself\u001b[0m\u001b[0;34m.\u001b[0m\u001b[0m_backend\u001b[0m\u001b[0;34m.\u001b[0m\u001b[0mapply_async\u001b[0m\u001b[0;34m(\u001b[0m\u001b[0mbatch\u001b[0m\u001b[0;34m,\u001b[0m \u001b[0mcallback\u001b[0m\u001b[0;34m=\u001b[0m\u001b[0mcb\u001b[0m\u001b[0;34m)\u001b[0m\u001b[0;34m\u001b[0m\u001b[0;34m\u001b[0m\u001b[0m\n\u001b[0m\u001b[1;32m    778\u001b[0m             \u001b[0;31m# A job can complete so quickly than its callback is\u001b[0m\u001b[0;34m\u001b[0m\u001b[0;34m\u001b[0m\u001b[0;34m\u001b[0m\u001b[0m\n\u001b[1;32m    779\u001b[0m             \u001b[0;31m# called before we get here, causing self._jobs to\u001b[0m\u001b[0;34m\u001b[0m\u001b[0;34m\u001b[0m\u001b[0;34m\u001b[0m\u001b[0m\n",
            "\u001b[0;32m/usr/local/lib/python3.7/dist-packages/joblib/_parallel_backends.py\u001b[0m in \u001b[0;36mapply_async\u001b[0;34m(self, func, callback)\u001b[0m\n\u001b[1;32m    206\u001b[0m     \u001b[0;32mdef\u001b[0m \u001b[0mapply_async\u001b[0m\u001b[0;34m(\u001b[0m\u001b[0mself\u001b[0m\u001b[0;34m,\u001b[0m \u001b[0mfunc\u001b[0m\u001b[0;34m,\u001b[0m \u001b[0mcallback\u001b[0m\u001b[0;34m=\u001b[0m\u001b[0;32mNone\u001b[0m\u001b[0;34m)\u001b[0m\u001b[0;34m:\u001b[0m\u001b[0;34m\u001b[0m\u001b[0;34m\u001b[0m\u001b[0m\n\u001b[1;32m    207\u001b[0m         \u001b[0;34m\"\"\"Schedule a func to be run\"\"\"\u001b[0m\u001b[0;34m\u001b[0m\u001b[0;34m\u001b[0m\u001b[0m\n\u001b[0;32m--> 208\u001b[0;31m         \u001b[0mresult\u001b[0m \u001b[0;34m=\u001b[0m \u001b[0mImmediateResult\u001b[0m\u001b[0;34m(\u001b[0m\u001b[0mfunc\u001b[0m\u001b[0;34m)\u001b[0m\u001b[0;34m\u001b[0m\u001b[0;34m\u001b[0m\u001b[0m\n\u001b[0m\u001b[1;32m    209\u001b[0m         \u001b[0;32mif\u001b[0m \u001b[0mcallback\u001b[0m\u001b[0;34m:\u001b[0m\u001b[0;34m\u001b[0m\u001b[0;34m\u001b[0m\u001b[0m\n\u001b[1;32m    210\u001b[0m             \u001b[0mcallback\u001b[0m\u001b[0;34m(\u001b[0m\u001b[0mresult\u001b[0m\u001b[0;34m)\u001b[0m\u001b[0;34m\u001b[0m\u001b[0;34m\u001b[0m\u001b[0m\n",
            "\u001b[0;32m/usr/local/lib/python3.7/dist-packages/joblib/_parallel_backends.py\u001b[0m in \u001b[0;36m__init__\u001b[0;34m(self, batch)\u001b[0m\n\u001b[1;32m    570\u001b[0m         \u001b[0;31m# Don't delay the application, to avoid keeping the input\u001b[0m\u001b[0;34m\u001b[0m\u001b[0;34m\u001b[0m\u001b[0;34m\u001b[0m\u001b[0m\n\u001b[1;32m    571\u001b[0m         \u001b[0;31m# arguments in memory\u001b[0m\u001b[0;34m\u001b[0m\u001b[0;34m\u001b[0m\u001b[0;34m\u001b[0m\u001b[0m\n\u001b[0;32m--> 572\u001b[0;31m         \u001b[0mself\u001b[0m\u001b[0;34m.\u001b[0m\u001b[0mresults\u001b[0m \u001b[0;34m=\u001b[0m \u001b[0mbatch\u001b[0m\u001b[0;34m(\u001b[0m\u001b[0;34m)\u001b[0m\u001b[0;34m\u001b[0m\u001b[0;34m\u001b[0m\u001b[0m\n\u001b[0m\u001b[1;32m    573\u001b[0m \u001b[0;34m\u001b[0m\u001b[0m\n\u001b[1;32m    574\u001b[0m     \u001b[0;32mdef\u001b[0m \u001b[0mget\u001b[0m\u001b[0;34m(\u001b[0m\u001b[0mself\u001b[0m\u001b[0;34m)\u001b[0m\u001b[0;34m:\u001b[0m\u001b[0;34m\u001b[0m\u001b[0;34m\u001b[0m\u001b[0m\n",
            "\u001b[0;32m/usr/local/lib/python3.7/dist-packages/joblib/parallel.py\u001b[0m in \u001b[0;36m__call__\u001b[0;34m(self)\u001b[0m\n\u001b[1;32m    261\u001b[0m         \u001b[0;32mwith\u001b[0m \u001b[0mparallel_backend\u001b[0m\u001b[0;34m(\u001b[0m\u001b[0mself\u001b[0m\u001b[0;34m.\u001b[0m\u001b[0m_backend\u001b[0m\u001b[0;34m,\u001b[0m \u001b[0mn_jobs\u001b[0m\u001b[0;34m=\u001b[0m\u001b[0mself\u001b[0m\u001b[0;34m.\u001b[0m\u001b[0m_n_jobs\u001b[0m\u001b[0;34m)\u001b[0m\u001b[0;34m:\u001b[0m\u001b[0;34m\u001b[0m\u001b[0;34m\u001b[0m\u001b[0m\n\u001b[1;32m    262\u001b[0m             return [func(*args, **kwargs)\n\u001b[0;32m--> 263\u001b[0;31m                     for func, args, kwargs in self.items]\n\u001b[0m\u001b[1;32m    264\u001b[0m \u001b[0;34m\u001b[0m\u001b[0m\n\u001b[1;32m    265\u001b[0m     \u001b[0;32mdef\u001b[0m \u001b[0m__reduce__\u001b[0m\u001b[0;34m(\u001b[0m\u001b[0mself\u001b[0m\u001b[0;34m)\u001b[0m\u001b[0;34m:\u001b[0m\u001b[0;34m\u001b[0m\u001b[0;34m\u001b[0m\u001b[0m\n",
            "\u001b[0;32m/usr/local/lib/python3.7/dist-packages/joblib/parallel.py\u001b[0m in \u001b[0;36m<listcomp>\u001b[0;34m(.0)\u001b[0m\n\u001b[1;32m    261\u001b[0m         \u001b[0;32mwith\u001b[0m \u001b[0mparallel_backend\u001b[0m\u001b[0;34m(\u001b[0m\u001b[0mself\u001b[0m\u001b[0;34m.\u001b[0m\u001b[0m_backend\u001b[0m\u001b[0;34m,\u001b[0m \u001b[0mn_jobs\u001b[0m\u001b[0;34m=\u001b[0m\u001b[0mself\u001b[0m\u001b[0;34m.\u001b[0m\u001b[0m_n_jobs\u001b[0m\u001b[0;34m)\u001b[0m\u001b[0;34m:\u001b[0m\u001b[0;34m\u001b[0m\u001b[0;34m\u001b[0m\u001b[0m\n\u001b[1;32m    262\u001b[0m             return [func(*args, **kwargs)\n\u001b[0;32m--> 263\u001b[0;31m                     for func, args, kwargs in self.items]\n\u001b[0m\u001b[1;32m    264\u001b[0m \u001b[0;34m\u001b[0m\u001b[0m\n\u001b[1;32m    265\u001b[0m     \u001b[0;32mdef\u001b[0m \u001b[0m__reduce__\u001b[0m\u001b[0;34m(\u001b[0m\u001b[0mself\u001b[0m\u001b[0;34m)\u001b[0m\u001b[0;34m:\u001b[0m\u001b[0;34m\u001b[0m\u001b[0;34m\u001b[0m\u001b[0m\n",
            "\u001b[0;32m/usr/local/lib/python3.7/dist-packages/deepforest/forest.py\u001b[0m in \u001b[0;36m_parallel_build_trees\u001b[0;34m(tree, X, y, n_samples_bootstrap, sample_weight, out, mask, is_classifier, lock)\u001b[0m\n\u001b[1;32m    127\u001b[0m         \u001b[0my\u001b[0m\u001b[0;34m[\u001b[0m\u001b[0msample_mask\u001b[0m\u001b[0;34m]\u001b[0m\u001b[0;34m,\u001b[0m\u001b[0;34m\u001b[0m\u001b[0;34m\u001b[0m\u001b[0m\n\u001b[1;32m    128\u001b[0m         \u001b[0msample_weight\u001b[0m\u001b[0;34m=\u001b[0m\u001b[0msample_weight\u001b[0m\u001b[0;34m,\u001b[0m\u001b[0;34m\u001b[0m\u001b[0;34m\u001b[0m\u001b[0m\n\u001b[0;32m--> 129\u001b[0;31m         \u001b[0mcheck_input\u001b[0m\u001b[0;34m=\u001b[0m\u001b[0;32mFalse\u001b[0m\u001b[0;34m,\u001b[0m\u001b[0;34m\u001b[0m\u001b[0;34m\u001b[0m\u001b[0m\n\u001b[0m\u001b[1;32m    130\u001b[0m     )\n\u001b[1;32m    131\u001b[0m \u001b[0;34m\u001b[0m\u001b[0m\n",
            "\u001b[0;32m/usr/local/lib/python3.7/dist-packages/deepforest/tree/tree.py\u001b[0m in \u001b[0;36mfit\u001b[0;34m(self, X, y, sample_weight, check_input, X_idx_sorted)\u001b[0m\n\u001b[1;32m    483\u001b[0m             \u001b[0msample_weight\u001b[0m\u001b[0;34m=\u001b[0m\u001b[0msample_weight\u001b[0m\u001b[0;34m,\u001b[0m\u001b[0;34m\u001b[0m\u001b[0;34m\u001b[0m\u001b[0m\n\u001b[1;32m    484\u001b[0m             \u001b[0mcheck_input\u001b[0m\u001b[0;34m=\u001b[0m\u001b[0mcheck_input\u001b[0m\u001b[0;34m,\u001b[0m\u001b[0;34m\u001b[0m\u001b[0;34m\u001b[0m\u001b[0m\n\u001b[0;32m--> 485\u001b[0;31m             \u001b[0mX_idx_sorted\u001b[0m\u001b[0;34m=\u001b[0m\u001b[0mX_idx_sorted\u001b[0m\u001b[0;34m,\u001b[0m\u001b[0;34m\u001b[0m\u001b[0;34m\u001b[0m\u001b[0m\n\u001b[0m\u001b[1;32m    486\u001b[0m         )\n\u001b[1;32m    487\u001b[0m \u001b[0;34m\u001b[0m\u001b[0m\n",
            "\u001b[0;32m/usr/local/lib/python3.7/dist-packages/deepforest/tree/tree.py\u001b[0m in \u001b[0;36mfit\u001b[0;34m(self, X, y, sample_weight, check_input, X_idx_sorted)\u001b[0m\n\u001b[1;32m    374\u001b[0m         )\n\u001b[1;32m    375\u001b[0m \u001b[0;34m\u001b[0m\u001b[0m\n\u001b[0;32m--> 376\u001b[0;31m         \u001b[0mbuilder\u001b[0m\u001b[0;34m.\u001b[0m\u001b[0mbuild\u001b[0m\u001b[0;34m(\u001b[0m\u001b[0mself\u001b[0m\u001b[0;34m.\u001b[0m\u001b[0mtree_\u001b[0m\u001b[0;34m,\u001b[0m \u001b[0mX\u001b[0m\u001b[0;34m,\u001b[0m \u001b[0my\u001b[0m\u001b[0;34m,\u001b[0m \u001b[0msample_weight\u001b[0m\u001b[0;34m,\u001b[0m \u001b[0mX_idx_sorted\u001b[0m\u001b[0;34m)\u001b[0m\u001b[0;34m\u001b[0m\u001b[0;34m\u001b[0m\u001b[0m\n\u001b[0m\u001b[1;32m    377\u001b[0m \u001b[0;34m\u001b[0m\u001b[0m\n\u001b[1;32m    378\u001b[0m         \u001b[0;32mif\u001b[0m \u001b[0mself\u001b[0m\u001b[0;34m.\u001b[0m\u001b[0mn_outputs_\u001b[0m \u001b[0;34m==\u001b[0m \u001b[0;36m1\u001b[0m \u001b[0;32mand\u001b[0m \u001b[0mis_classifier\u001b[0m\u001b[0;34m(\u001b[0m\u001b[0mself\u001b[0m\u001b[0;34m)\u001b[0m\u001b[0;34m:\u001b[0m\u001b[0;34m\u001b[0m\u001b[0;34m\u001b[0m\u001b[0m\n",
            "\u001b[0;32mdeepforest/tree/_tree.pyx\u001b[0m in \u001b[0;36mdeepforest.tree._tree.DepthFirstTreeBuilder.build\u001b[0;34m()\u001b[0m\n",
            "\u001b[0;32mdeepforest/tree/_tree.pyx\u001b[0m in \u001b[0;36mdeepforest.tree._tree.DepthFirstTreeBuilder.build\u001b[0;34m()\u001b[0m\n",
            "\u001b[0;32mdeepforest/tree/_tree.pyx\u001b[0m in \u001b[0;36mdeepforest.tree._tree.Tree._resize_node_c\u001b[0;34m()\u001b[0m\n",
            "\u001b[0;32mdeepforest/tree/_utils.pyx\u001b[0m in \u001b[0;36mdeepforest.tree._utils.safe_realloc\u001b[0;34m()\u001b[0m\n",
            "\u001b[0;31mMemoryError\u001b[0m: could not allocate 0 bytes"
          ]
        }
      ]
    },
    {
      "cell_type": "code",
      "metadata": {
        "id": "v-z9Ow0fGeeO"
      },
      "source": [
        ""
      ],
      "execution_count": null,
      "outputs": []
    }
  ]
}